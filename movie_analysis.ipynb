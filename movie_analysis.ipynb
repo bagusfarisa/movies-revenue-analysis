{
 "cells": [
  {
   "attachments": {},
   "cell_type": "markdown",
   "metadata": {},
   "source": [
    "# TITLE"
   ]
  },
  {
   "attachments": {},
   "cell_type": "markdown",
   "metadata": {},
   "source": [
    "## Import the libs and Load the datasets"
   ]
  },
  {
   "cell_type": "code",
   "execution_count": 49,
   "metadata": {},
   "outputs": [],
   "source": [
    "# Import libraries\n",
    "\n",
    "# Data Loading\n",
    "import numpy as np\n",
    "import pandas as pd\n",
    "\n",
    "# Data Querying\n",
    "import pandasql as ps\n",
    "\n",
    "# Modelling\n",
    "import statsmodels.formula.api as smf\n",
    "\n",
    "# Data Visualization\n",
    "import matplotlib.pyplot as plt\n",
    "import seaborn as sns"
   ]
  },
  {
   "cell_type": "code",
   "execution_count": 50,
   "metadata": {},
   "outputs": [],
   "source": [
    "def print_coef_std_err(results):\n",
    "    \"\"\"\n",
    "    Function to combine estimated coefficients and standard error in one DataFrame\n",
    "    :param results: <statsmodels RegressionResultsWrapper> OLS regression results from statsmodel\n",
    "    :return df: <pandas DataFrame> combined estimated coefficient and standard error of model estimate\n",
    "    \"\"\"\n",
    "    coef = results.params\n",
    "    std_err = results.bse\n",
    "    \n",
    "    df = pd.DataFrame(data = np.transpose([coef, std_err]), \n",
    "                      index = coef.index, \n",
    "                      columns=[\"coef\",\"std err\"])\n",
    "    return df"
   ]
  },
  {
   "cell_type": "code",
   "execution_count": 51,
   "metadata": {},
   "outputs": [],
   "source": [
    "def impute(data, value):\n",
    "    \"\"\"\n",
    "    Function to impute a missing data (array-like) with a certain value\n",
    "    \n",
    "    :param data: array-like, the data with missing values\n",
    "    :param value: float/int, the value to use for imputing missing values\n",
    "    :return imputed_array: array-like, the imputed data\n",
    "    \"\"\"    \n",
    "    # Check for each element in data \n",
    "    # return True if it's a missing values (represented as NaN in numpy) \n",
    "    # return False otherwise.\n",
    "    bool_nan = np.isnan(data)\n",
    "    \n",
    "    # Return the value a_impute where a is missing and returns a otherwise\n",
    "    imputed_data = np.where(bool_nan, value, data)\n",
    "    \n",
    "    return imputed_data"
   ]
  },
  {
   "cell_type": "code",
   "execution_count": 52,
   "metadata": {},
   "outputs": [],
   "source": [
    "def simple_rand_impute(a):\n",
    "    \n",
    "    # Array containin boolearn, True if the element in a is missing, False otherwise\n",
    "    missing = pd.isnull(a)\n",
    "    \n",
    "    # Number of missing value\n",
    "    n_missing = sum(missing)\n",
    "    \n",
    "    # a observation that's not missing\n",
    "    a_obs = a[~missing]\n",
    "    \n",
    "    # Copy of a\n",
    "    imputed = a.copy()\n",
    "    \n",
    "    # Impute missing value with random observation that's not missing\n",
    "    imputed[missing] = np.random.choice(a_obs, size=n_missing)\n",
    "    \n",
    "    return imputed"
   ]
  },
  {
   "cell_type": "code",
   "execution_count": 53,
   "metadata": {},
   "outputs": [
    {
     "data": {
      "text/html": [
       "<div>\n",
       "<style scoped>\n",
       "    .dataframe tbody tr th:only-of-type {\n",
       "        vertical-align: middle;\n",
       "    }\n",
       "\n",
       "    .dataframe tbody tr th {\n",
       "        vertical-align: top;\n",
       "    }\n",
       "\n",
       "    .dataframe thead th {\n",
       "        text-align: right;\n",
       "    }\n",
       "</style>\n",
       "<table border=\"1\" class=\"dataframe\">\n",
       "  <thead>\n",
       "    <tr style=\"text-align: right;\">\n",
       "      <th></th>\n",
       "      <th>Title</th>\n",
       "      <th>Domestic</th>\n",
       "      <th>International</th>\n",
       "      <th>Budget</th>\n",
       "      <th>Distributor</th>\n",
       "      <th>MPAA-Rating</th>\n",
       "      <th>Runtime</th>\n",
       "      <th>Genres</th>\n",
       "    </tr>\n",
       "  </thead>\n",
       "  <tbody>\n",
       "    <tr>\n",
       "      <th>0</th>\n",
       "      <td>Jurassic World (2015)</td>\n",
       "      <td>652270625</td>\n",
       "      <td>1018130012</td>\n",
       "      <td>150000000.0</td>\n",
       "      <td>Universal Pictures</td>\n",
       "      <td>PG-13</td>\n",
       "      <td>124</td>\n",
       "      <td>Action;Adventure;Sci-Fi</td>\n",
       "    </tr>\n",
       "    <tr>\n",
       "      <th>1</th>\n",
       "      <td>Star Wars: Episode VII - The Force Awakens (2015)</td>\n",
       "      <td>936662225</td>\n",
       "      <td>1131561399</td>\n",
       "      <td>245000000.0</td>\n",
       "      <td>Walt Disney Studios Motion Pictures</td>\n",
       "      <td>PG-13</td>\n",
       "      <td>138</td>\n",
       "      <td>Action;Adventure;Sci-Fi</td>\n",
       "    </tr>\n",
       "    <tr>\n",
       "      <th>2</th>\n",
       "      <td>Avengers: Age of Ultron (2015)</td>\n",
       "      <td>459005868</td>\n",
       "      <td>943800000</td>\n",
       "      <td>250000000.0</td>\n",
       "      <td>Walt Disney Studios Motion Pictures</td>\n",
       "      <td>PG-13</td>\n",
       "      <td>141</td>\n",
       "      <td>Action;Adventure;Sci-Fi</td>\n",
       "    </tr>\n",
       "    <tr>\n",
       "      <th>3</th>\n",
       "      <td>Inside Out (2015)</td>\n",
       "      <td>356461711</td>\n",
       "      <td>501149463</td>\n",
       "      <td>175000000.0</td>\n",
       "      <td>Walt Disney Studios Motion Pictures</td>\n",
       "      <td>PG</td>\n",
       "      <td>95</td>\n",
       "      <td>Adventure;Animation;Comedy;Drama;Family;Fantasy</td>\n",
       "    </tr>\n",
       "    <tr>\n",
       "      <th>4</th>\n",
       "      <td>Furious 7 (2015)</td>\n",
       "      <td>353007020</td>\n",
       "      <td>1162040651</td>\n",
       "      <td>190000000.0</td>\n",
       "      <td>Universal Pictures</td>\n",
       "      <td>PG-13</td>\n",
       "      <td>137</td>\n",
       "      <td>Action;Adventure;Thriller</td>\n",
       "    </tr>\n",
       "  </tbody>\n",
       "</table>\n",
       "</div>"
      ],
      "text/plain": [
       "                                               Title   Domestic  \\\n",
       "0                              Jurassic World (2015)  652270625   \n",
       "1  Star Wars: Episode VII - The Force Awakens (2015)  936662225   \n",
       "2                     Avengers: Age of Ultron (2015)  459005868   \n",
       "3                                  Inside Out (2015)  356461711   \n",
       "4                                   Furious 7 (2015)  353007020   \n",
       "\n",
       "   International       Budget                          Distributor  \\\n",
       "0     1018130012  150000000.0                   Universal Pictures   \n",
       "1     1131561399  245000000.0  Walt Disney Studios Motion Pictures   \n",
       "2      943800000  250000000.0  Walt Disney Studios Motion Pictures   \n",
       "3      501149463  175000000.0  Walt Disney Studios Motion Pictures   \n",
       "4     1162040651  190000000.0                   Universal Pictures   \n",
       "\n",
       "  MPAA-Rating  Runtime                                           Genres  \n",
       "0       PG-13      124                          Action;Adventure;Sci-Fi  \n",
       "1       PG-13      138                          Action;Adventure;Sci-Fi  \n",
       "2       PG-13      141                          Action;Adventure;Sci-Fi  \n",
       "3          PG       95  Adventure;Animation;Comedy;Drama;Family;Fantasy  \n",
       "4       PG-13      137                        Action;Adventure;Thriller  "
      ]
     },
     "execution_count": 53,
     "metadata": {},
     "output_type": "execute_result"
    }
   ],
   "source": [
    "# Load dataset: Movie Titles\n",
    "df_mv_titles = pd.read_csv(\"movie_titles.csv\")\n",
    "df_mv_titles.head()"
   ]
  },
  {
   "cell_type": "code",
   "execution_count": 54,
   "metadata": {},
   "outputs": [
    {
     "data": {
      "text/html": [
       "<div>\n",
       "<style scoped>\n",
       "    .dataframe tbody tr th:only-of-type {\n",
       "        vertical-align: middle;\n",
       "    }\n",
       "\n",
       "    .dataframe tbody tr th {\n",
       "        vertical-align: top;\n",
       "    }\n",
       "\n",
       "    .dataframe thead th {\n",
       "        text-align: right;\n",
       "    }\n",
       "</style>\n",
       "<table border=\"1\" class=\"dataframe\">\n",
       "  <thead>\n",
       "    <tr style=\"text-align: right;\">\n",
       "      <th></th>\n",
       "      <th>Movie_Title</th>\n",
       "      <th>Date</th>\n",
       "      <th>Daily</th>\n",
       "      <th>Theaters</th>\n",
       "      <th>Rank</th>\n",
       "    </tr>\n",
       "  </thead>\n",
       "  <tbody>\n",
       "    <tr>\n",
       "      <th>0</th>\n",
       "      <td>Jurassic World (2015)</td>\n",
       "      <td>2015-06-12</td>\n",
       "      <td>81953950</td>\n",
       "      <td>4274.0</td>\n",
       "      <td>1</td>\n",
       "    </tr>\n",
       "    <tr>\n",
       "      <th>1</th>\n",
       "      <td>Jurassic World (2015)</td>\n",
       "      <td>2015-06-13</td>\n",
       "      <td>69644830</td>\n",
       "      <td>4274.0</td>\n",
       "      <td>1</td>\n",
       "    </tr>\n",
       "    <tr>\n",
       "      <th>2</th>\n",
       "      <td>Jurassic World (2015)</td>\n",
       "      <td>2015-06-14</td>\n",
       "      <td>57207490</td>\n",
       "      <td>4274.0</td>\n",
       "      <td>1</td>\n",
       "    </tr>\n",
       "    <tr>\n",
       "      <th>3</th>\n",
       "      <td>Jurassic World (2015)</td>\n",
       "      <td>2015-06-15</td>\n",
       "      <td>25344820</td>\n",
       "      <td>4274.0</td>\n",
       "      <td>1</td>\n",
       "    </tr>\n",
       "    <tr>\n",
       "      <th>4</th>\n",
       "      <td>Jurassic World (2015)</td>\n",
       "      <td>2015-06-16</td>\n",
       "      <td>24342515</td>\n",
       "      <td>4274.0</td>\n",
       "      <td>1</td>\n",
       "    </tr>\n",
       "  </tbody>\n",
       "</table>\n",
       "</div>"
      ],
      "text/plain": [
       "             Movie_Title        Date     Daily  Theaters  Rank\n",
       "0  Jurassic World (2015)  2015-06-12  81953950    4274.0     1\n",
       "1  Jurassic World (2015)  2015-06-13  69644830    4274.0     1\n",
       "2  Jurassic World (2015)  2015-06-14  57207490    4274.0     1\n",
       "3  Jurassic World (2015)  2015-06-15  25344820    4274.0     1\n",
       "4  Jurassic World (2015)  2015-06-16  24342515    4274.0     1"
      ]
     },
     "execution_count": 54,
     "metadata": {},
     "output_type": "execute_result"
    }
   ],
   "source": [
    "# Load dataset: Movie Daily Earnings\n",
    "df_mv_daily_earnings = pd.read_csv(\"movie_daily_earnings.csv\")\n",
    "df_mv_daily_earnings.head()"
   ]
  },
  {
   "attachments": {},
   "cell_type": "markdown",
   "metadata": {},
   "source": [
    "## Check Missing Value"
   ]
  },
  {
   "cell_type": "code",
   "execution_count": 55,
   "metadata": {},
   "outputs": [
    {
     "data": {
      "text/plain": [
       "Title             0.000000\n",
       "Domestic          0.000000\n",
       "International     0.000000\n",
       "Budget           32.147059\n",
       "Distributor       0.029412\n",
       "MPAA-Rating       4.588235\n",
       "Runtime           0.000000\n",
       "Genres            0.088235\n",
       "dtype: float64"
      ]
     },
     "execution_count": 55,
     "metadata": {},
     "output_type": "execute_result"
    }
   ],
   "source": [
    "#Check missing value: Movie Titles\n",
    "df_mv_titles.isnull().sum()/df_mv_titles.shape[0]*100"
   ]
  },
  {
   "attachments": {},
   "cell_type": "markdown",
   "metadata": {},
   "source": [
    "Movie Tiltes: variable(s) with missing value:\n",
    "1. Budget (32%)\n",
    "2. Distributor (0.03%)\n",
    "3. MPAA-Rating (4.5%)\n",
    "4. Genres (0.09%)"
   ]
  },
  {
   "cell_type": "code",
   "execution_count": 56,
   "metadata": {},
   "outputs": [
    {
     "data": {
      "text/plain": [
       "Movie_Title    0.000000\n",
       "Date           0.000000\n",
       "Daily          0.000000\n",
       "Theaters       0.017319\n",
       "Rank           0.000000\n",
       "dtype: float64"
      ]
     },
     "execution_count": 56,
     "metadata": {},
     "output_type": "execute_result"
    }
   ],
   "source": [
    "#Check missing value: Movie Daily Earnings\n",
    "df_mv_daily_earnings.isnull().sum()/df_mv_daily_earnings.shape[0]*100"
   ]
  },
  {
   "attachments": {},
   "cell_type": "markdown",
   "metadata": {},
   "source": [
    "Movie Daily Earnings: variable(s) with missing value:\n",
    "1. Theaters (0.17%)"
   ]
  },
  {
   "attachments": {},
   "cell_type": "markdown",
   "metadata": {},
   "source": [
    "## Data Imputation"
   ]
  },
  {
   "attachments": {},
   "cell_type": "markdown",
   "metadata": {},
   "source": [
    "### Movie Daily Earnings Table"
   ]
  },
  {
   "attachments": {},
   "cell_type": "markdown",
   "metadata": {},
   "source": [
    "#### Standardize the table header"
   ]
  },
  {
   "cell_type": "code",
   "execution_count": 57,
   "metadata": {},
   "outputs": [],
   "source": [
    "# Change the headers of the table\n",
    "dict = {'Movie_Title': 'title',\n",
    "        'Date': 'date',\n",
    "        'Daily': 'daily',\n",
    "        'Theaters': 'theaters',\n",
    "        'Rank': 'rank'\n",
    "        }\n",
    " \n",
    "# Rename the headers based on the dict using rename () method\n",
    "df_mv_daily_earnings.rename(columns=dict, inplace=True)\n",
    " "
   ]
  },
  {
   "attachments": {},
   "cell_type": "markdown",
   "metadata": {},
   "source": [
    "#### Handling Missing Values of Categotical Variables\n",
    "We'll use simple random imputation to handle missing value of these categorical variables:\n",
    "1. Theaters"
   ]
  },
  {
   "cell_type": "code",
   "execution_count": 58,
   "metadata": {},
   "outputs": [],
   "source": [
    "# Fill the Theater's missing value using simple random imputation\n",
    "df_mv_daily_earnings['imp_theaters'] = simple_rand_impute(df_mv_daily_earnings['theaters'])"
   ]
  },
  {
   "cell_type": "code",
   "execution_count": 59,
   "metadata": {},
   "outputs": [
    {
     "data": {
      "image/png": "[encoded data removed]",
      "text/plain": [
       "<Figure size 640x480 with 1 Axes>"
      ]
     },
     "metadata": {},
     "output_type": "display_data"
    }
   ],
   "source": [
    "# Check the distribution of genres imputed values\n",
    "# Store the genre imputed values df as a object\n",
    "missing_theaters = df_mv_daily_earnings[\"theaters\"].isnull()\n",
    "\n",
    "# Create a new dataframe consisting only distributor column with missing values and the imputed value counterpart\n",
    "df_mv_daily_earnings_missing_theaters = df_mv_daily_earnings[missing_theaters][[\"theaters\",\"imp_theaters\"]].copy()\n",
    "\n",
    "# Plot the imputed distributor value as a bar chart\n",
    "plt.hist(df_mv_daily_earnings_missing_theaters[\"imp_theaters\"], bins = np.arange(0, 101, 10), color='white', edgecolor='black')\n",
    "plt.xlabel('Missing theaters values after simple random imputation')\n",
    "plt.ylabel('frequency')\n",
    "plt.title('Simple Random Imputation')\n",
    "plt.show()\n"
   ]
  },
  {
   "cell_type": "code",
   "execution_count": 60,
   "metadata": {},
   "outputs": [],
   "source": [
    "# # Fill the Theater's missing value using the mode\n",
    "# df_mv_daily_earnings['Theaters'].fillna(df_mv_daily_earnings['Theaters'].mode()[0], inplace=True)\n"
   ]
  },
  {
   "cell_type": "code",
   "execution_count": 61,
   "metadata": {},
   "outputs": [
    {
     "data": {
      "text/plain": [
       "title           0.000000\n",
       "date            0.000000\n",
       "daily           0.000000\n",
       "theaters        0.017319\n",
       "rank            0.000000\n",
       "imp_theaters    0.000000\n",
       "dtype: float64"
      ]
     },
     "execution_count": 61,
     "metadata": {},
     "output_type": "execute_result"
    }
   ],
   "source": [
    "#Check the missing value again: Movie Daily Earnings\n",
    "df_mv_daily_earnings.isnull().sum()/df_mv_daily_earnings.shape[0]*100"
   ]
  },
  {
   "attachments": {},
   "cell_type": "markdown",
   "metadata": {},
   "source": [
    "Note: No longer any missing value in Movie Daily Earnings dataset"
   ]
  },
  {
   "attachments": {},
   "cell_type": "markdown",
   "metadata": {},
   "source": [
    "### Movie Titles Table"
   ]
  },
  {
   "attachments": {},
   "cell_type": "markdown",
   "metadata": {},
   "source": [
    "#### Standardize the table header"
   ]
  },
  {
   "cell_type": "code",
   "execution_count": 62,
   "metadata": {},
   "outputs": [],
   "source": [
    "# Change the headers of the table\n",
    "dict = {'Title': 'title',\n",
    "        'Domestic': 'domestic',\n",
    "        'International': 'international',\n",
    "        'Budget': 'budget',\n",
    "        'Distributor': 'distributor',\n",
    "        'MPAA-Rating': 'mpaa_rating',\n",
    "        'Runtime': 'runtime',\n",
    "        'Genres': 'genres'\n",
    "        }\n",
    " \n",
    "# Rename the headers based on the dict using rename () method\n",
    "df_mv_titles.rename(columns=dict, inplace=True)\n",
    " "
   ]
  },
  {
   "attachments": {},
   "cell_type": "markdown",
   "metadata": {},
   "source": [
    "#### Handling Missing Values of Categotical Variables"
   ]
  },
  {
   "attachments": {},
   "cell_type": "markdown",
   "metadata": {},
   "source": [
    "We'll use mode-imputation to handle missing value of these categorical variables:\n",
    "1. Distributor\n",
    "2. MPAA-Rating\n",
    "3. Genres"
   ]
  },
  {
   "cell_type": "code",
   "execution_count": 63,
   "metadata": {},
   "outputs": [],
   "source": [
    "# Fill these missing value using simple random imputation\n",
    "df_mv_titles['imp_distributor'] = simple_rand_impute(df_mv_titles['distributor'])\n",
    "df_mv_titles['imp_genres'] = simple_rand_impute(df_mv_titles['genres'])\n",
    "df_mv_titles['imp_mpaa_rating'] = simple_rand_impute(df_mv_titles['mpaa_rating'])"
   ]
  },
  {
   "cell_type": "code",
   "execution_count": 64,
   "metadata": {},
   "outputs": [],
   "source": [
    "# # Fill the Distributor's missing value using the mode\n",
    "# df_mv_titles['distributor'].fillna(df_mv_titles['distributor'].mode()[0], inplace=True)\n",
    "# df_mv_titles['mpaa_rating'].fillna(df_mv_titles['mpaa_rating'].mode()[0], inplace=True)\n",
    "# df_mv_titles['genres'].fillna(df_mv_titles['genres'].mode()[0], inplace=True)"
   ]
  },
  {
   "cell_type": "code",
   "execution_count": 65,
   "metadata": {},
   "outputs": [
    {
     "data": {
      "text/plain": [
       "<Axes: xlabel='imp_distributor'>"
      ]
     },
     "execution_count": 65,
     "metadata": {},
     "output_type": "execute_result"
    },
    {
     "data": {
      "image/png": "[encoded data removed]",
      "text/plain": [
       "<Figure size 640x480 with 1 Axes>"
      ]
     },
     "metadata": {},
     "output_type": "display_data"
    }
   ],
   "source": [
    "# Check the distribution of distributor imputed values\n",
    "# Store the distributor imputed values df as a object\n",
    "missing_distributor = df_mv_titles[\"distributor\"].isnull()\n",
    "\n",
    "# Create a new dataframe consisting only distributor column with missing values and the imputed value counterpart\n",
    "df_mv_titles_missing_distibutor = df_mv_titles[missing_distributor][[\"distributor\",\"imp_distributor\"]].copy()\n",
    "\n",
    "# Plot the imputed distributor value as bar chart\n",
    "df_mv_titles_missing_distibutor['imp_distributor'].value_counts().plot(kind='bar')"
   ]
  },
  {
   "cell_type": "code",
   "execution_count": 66,
   "metadata": {},
   "outputs": [
    {
     "data": {
      "text/plain": [
       "<Axes: xlabel='imp_genres'>"
      ]
     },
     "execution_count": 66,
     "metadata": {},
     "output_type": "execute_result"
    },
    {
     "data": {
      "image/png": "[encoded data removed]",
      "text/plain": [
       "<Figure size 640x480 with 1 Axes>"
      ]
     },
     "metadata": {},
     "output_type": "display_data"
    }
   ],
   "source": [
    "# Check the distribution of genres imputed values\n",
    "# Store the genre imputed values df as a object\n",
    "missing_genres = df_mv_titles[\"genres\"].isnull()\n",
    "\n",
    "# Create a new dataframe consisting only distributor column with missing values and the imputed value counterpart\n",
    "df_mv_titles_missing_genres = df_mv_titles[missing_genres][[\"genres\",\"imp_genres\"]].copy()\n",
    "\n",
    "# Plot the imputed distributor value as a bar chart\n",
    "df_mv_titles_missing_genres['imp_genres'].value_counts().plot(kind='bar')"
   ]
  },
  {
   "cell_type": "code",
   "execution_count": 67,
   "metadata": {},
   "outputs": [
    {
     "data": {
      "text/plain": [
       "<Axes: xlabel='imp_mpaa_rating'>"
      ]
     },
     "execution_count": 67,
     "metadata": {},
     "output_type": "execute_result"
    },
    {
     "data": {
      "image/png": "[encoded data removed]",
      "text/plain": [
       "<Figure size 640x480 with 1 Axes>"
      ]
     },
     "metadata": {},
     "output_type": "display_data"
    }
   ],
   "source": [
    "# Check the distribution of mpaa_rating imputed values\n",
    "# Store the mpaa_rating imputed values df as a object\n",
    "missing_mpaa_rating = df_mv_titles[\"mpaa_rating\"].isnull()\n",
    "\n",
    "# Create a new dataframe consisting only distributor column with missing values and the imputed value counterpart\n",
    "df_mv_titles_missing_mpaa_rating = df_mv_titles[missing_mpaa_rating][[\"mpaa_rating\",\"imp_mpaa_rating\"]].copy()\n",
    "\n",
    "# Plot the imputed distributor value as a bar chart\n",
    "df_mv_titles_missing_mpaa_rating['imp_mpaa_rating'].value_counts().plot(kind='bar')"
   ]
  },
  {
   "cell_type": "code",
   "execution_count": 68,
   "metadata": {},
   "outputs": [
    {
     "data": {
      "text/plain": [
       "title               0.000000\n",
       "domestic            0.000000\n",
       "international       0.000000\n",
       "budget             32.147059\n",
       "distributor         0.029412\n",
       "mpaa_rating         4.588235\n",
       "runtime             0.000000\n",
       "genres              0.088235\n",
       "imp_distributor     0.000000\n",
       "imp_genres          0.000000\n",
       "imp_mpaa_rating     0.000000\n",
       "dtype: float64"
      ]
     },
     "execution_count": 68,
     "metadata": {},
     "output_type": "execute_result"
    }
   ],
   "source": [
    "#Check again the missing value: Movie Titles\n",
    "df_mv_titles.isnull().sum()/df_mv_titles.shape[0]*100"
   ]
  },
  {
   "attachments": {},
   "cell_type": "markdown",
   "metadata": {},
   "source": [
    "Note: There's no longer any missing value in those categorical variables."
   ]
  },
  {
   "attachments": {},
   "cell_type": "markdown",
   "metadata": {},
   "source": [
    "#### Handling Missing Values of Numerical Variable"
   ]
  },
  {
   "attachments": {},
   "cell_type": "markdown",
   "metadata": {},
   "source": [
    "There's one numerical variable with missing values:\n",
    "1. Budget\n",
    "\n",
    "We'll use these imputation methods to handle the missing value and find which method perform the best.\n",
    "1. Complete Case Analysis\n",
    "2. Deterministic Regression Imputation\n",
    "3. Random Regression Imputation"
   ]
  },
  {
   "attachments": {},
   "cell_type": "markdown",
   "metadata": {},
   "source": [
    "##### 1. Complete Case Analysis"
   ]
  },
  {
   "attachments": {},
   "cell_type": "markdown",
   "metadata": {},
   "source": [
    "**Evaluate the dataset shape**"
   ]
  },
  {
   "cell_type": "code",
   "execution_count": 69,
   "metadata": {},
   "outputs": [
    {
     "data": {
      "text/plain": [
       "(3400, 11)"
      ]
     },
     "execution_count": 69,
     "metadata": {},
     "output_type": "execute_result"
    }
   ],
   "source": [
    "# Check the size of our original data\n",
    "df_mv_titles.shape"
   ]
  },
  {
   "cell_type": "code",
   "execution_count": 70,
   "metadata": {},
   "outputs": [
    {
     "data": {
      "text/plain": [
       "(2257, 11)"
      ]
     },
     "execution_count": 70,
     "metadata": {},
     "output_type": "execute_result"
    }
   ],
   "source": [
    "# Drop all rows that contain missing data\n",
    "df_mv_titles_compl_case = df_mv_titles.dropna(axis = 0)\n",
    "\n",
    "# Check the size of data after row deletion\n",
    "df_mv_titles_compl_case.shape"
   ]
  },
  {
   "attachments": {},
   "cell_type": "markdown",
   "metadata": {},
   "source": [
    "- We get that the table contains 2307 rows of complete data\n",
    "- We'll build a regression model based on this complete data and evaluation it"
   ]
  },
  {
   "cell_type": "code",
   "execution_count": 71,
   "metadata": {},
   "outputs": [
    {
     "data": {
      "text/html": [
       "<div>\n",
       "<style scoped>\n",
       "    .dataframe tbody tr th:only-of-type {\n",
       "        vertical-align: middle;\n",
       "    }\n",
       "\n",
       "    .dataframe tbody tr th {\n",
       "        vertical-align: top;\n",
       "    }\n",
       "\n",
       "    .dataframe thead th {\n",
       "        text-align: right;\n",
       "    }\n",
       "</style>\n",
       "<table border=\"1\" class=\"dataframe\">\n",
       "  <thead>\n",
       "    <tr style=\"text-align: right;\">\n",
       "      <th></th>\n",
       "      <th>title</th>\n",
       "      <th>domestic</th>\n",
       "      <th>international</th>\n",
       "      <th>budget</th>\n",
       "      <th>distributor</th>\n",
       "      <th>mpaa_rating</th>\n",
       "      <th>runtime</th>\n",
       "      <th>genres</th>\n",
       "      <th>imp_distributor</th>\n",
       "      <th>imp_genres</th>\n",
       "      <th>imp_mpaa_rating</th>\n",
       "    </tr>\n",
       "  </thead>\n",
       "  <tbody>\n",
       "    <tr>\n",
       "      <th>0</th>\n",
       "      <td>Jurassic World (2015)</td>\n",
       "      <td>652270625</td>\n",
       "      <td>1018130012</td>\n",
       "      <td>150000000.0</td>\n",
       "      <td>Universal Pictures</td>\n",
       "      <td>PG-13</td>\n",
       "      <td>124</td>\n",
       "      <td>Action;Adventure;Sci-Fi</td>\n",
       "      <td>Universal Pictures</td>\n",
       "      <td>Action;Adventure;Sci-Fi</td>\n",
       "      <td>PG-13</td>\n",
       "    </tr>\n",
       "    <tr>\n",
       "      <th>1</th>\n",
       "      <td>Star Wars: Episode VII - The Force Awakens (2015)</td>\n",
       "      <td>936662225</td>\n",
       "      <td>1131561399</td>\n",
       "      <td>245000000.0</td>\n",
       "      <td>Walt Disney Studios Motion Pictures</td>\n",
       "      <td>PG-13</td>\n",
       "      <td>138</td>\n",
       "      <td>Action;Adventure;Sci-Fi</td>\n",
       "      <td>Walt Disney Studios Motion Pictures</td>\n",
       "      <td>Action;Adventure;Sci-Fi</td>\n",
       "      <td>PG-13</td>\n",
       "    </tr>\n",
       "    <tr>\n",
       "      <th>2</th>\n",
       "      <td>Avengers: Age of Ultron (2015)</td>\n",
       "      <td>459005868</td>\n",
       "      <td>943800000</td>\n",
       "      <td>250000000.0</td>\n",
       "      <td>Walt Disney Studios Motion Pictures</td>\n",
       "      <td>PG-13</td>\n",
       "      <td>141</td>\n",
       "      <td>Action;Adventure;Sci-Fi</td>\n",
       "      <td>Walt Disney Studios Motion Pictures</td>\n",
       "      <td>Action;Adventure;Sci-Fi</td>\n",
       "      <td>PG-13</td>\n",
       "    </tr>\n",
       "    <tr>\n",
       "      <th>3</th>\n",
       "      <td>Inside Out (2015)</td>\n",
       "      <td>356461711</td>\n",
       "      <td>501149463</td>\n",
       "      <td>175000000.0</td>\n",
       "      <td>Walt Disney Studios Motion Pictures</td>\n",
       "      <td>PG</td>\n",
       "      <td>95</td>\n",
       "      <td>Adventure;Animation;Comedy;Drama;Family;Fantasy</td>\n",
       "      <td>Walt Disney Studios Motion Pictures</td>\n",
       "      <td>Adventure;Animation;Comedy;Drama;Family;Fantasy</td>\n",
       "      <td>PG</td>\n",
       "    </tr>\n",
       "    <tr>\n",
       "      <th>4</th>\n",
       "      <td>Furious 7 (2015)</td>\n",
       "      <td>353007020</td>\n",
       "      <td>1162040651</td>\n",
       "      <td>190000000.0</td>\n",
       "      <td>Universal Pictures</td>\n",
       "      <td>PG-13</td>\n",
       "      <td>137</td>\n",
       "      <td>Action;Adventure;Thriller</td>\n",
       "      <td>Universal Pictures</td>\n",
       "      <td>Action;Adventure;Thriller</td>\n",
       "      <td>PG-13</td>\n",
       "    </tr>\n",
       "  </tbody>\n",
       "</table>\n",
       "</div>"
      ],
      "text/plain": [
       "                                               title   domestic  \\\n",
       "0                              Jurassic World (2015)  652270625   \n",
       "1  Star Wars: Episode VII - The Force Awakens (2015)  936662225   \n",
       "2                     Avengers: Age of Ultron (2015)  459005868   \n",
       "3                                  Inside Out (2015)  356461711   \n",
       "4                                   Furious 7 (2015)  353007020   \n",
       "\n",
       "   international       budget                          distributor  \\\n",
       "0     1018130012  150000000.0                   Universal Pictures   \n",
       "1     1131561399  245000000.0  Walt Disney Studios Motion Pictures   \n",
       "2      943800000  250000000.0  Walt Disney Studios Motion Pictures   \n",
       "3      501149463  175000000.0  Walt Disney Studios Motion Pictures   \n",
       "4     1162040651  190000000.0                   Universal Pictures   \n",
       "\n",
       "  mpaa_rating  runtime                                           genres  \\\n",
       "0       PG-13      124                          Action;Adventure;Sci-Fi   \n",
       "1       PG-13      138                          Action;Adventure;Sci-Fi   \n",
       "2       PG-13      141                          Action;Adventure;Sci-Fi   \n",
       "3          PG       95  Adventure;Animation;Comedy;Drama;Family;Fantasy   \n",
       "4       PG-13      137                        Action;Adventure;Thriller   \n",
       "\n",
       "                       imp_distributor  \\\n",
       "0                   Universal Pictures   \n",
       "1  Walt Disney Studios Motion Pictures   \n",
       "2  Walt Disney Studios Motion Pictures   \n",
       "3  Walt Disney Studios Motion Pictures   \n",
       "4                   Universal Pictures   \n",
       "\n",
       "                                        imp_genres imp_mpaa_rating  \n",
       "0                          Action;Adventure;Sci-Fi           PG-13  \n",
       "1                          Action;Adventure;Sci-Fi           PG-13  \n",
       "2                          Action;Adventure;Sci-Fi           PG-13  \n",
       "3  Adventure;Animation;Comedy;Drama;Family;Fantasy              PG  \n",
       "4                        Action;Adventure;Thriller           PG-13  "
      ]
     },
     "execution_count": 71,
     "metadata": {},
     "output_type": "execute_result"
    }
   ],
   "source": [
    "df_mv_titles_compl_case.head()"
   ]
  },
  {
   "attachments": {},
   "cell_type": "markdown",
   "metadata": {},
   "source": [
    "**Build the regression model**"
   ]
  },
  {
   "cell_type": "code",
   "execution_count": 72,
   "metadata": {},
   "outputs": [],
   "source": [
    "# # Create the OLS model object and fit the model\n",
    "# model_cca = smf.ols(\"budget ~ domestic + international + C(distributor) \\\n",
    "#                                 + C(mpaa_rating) + runtime \\\n",
    "#                                 + C(genres)\", df_mv_titles_compl_case).fit()"
   ]
  },
  {
   "cell_type": "code",
   "execution_count": 73,
   "metadata": {},
   "outputs": [],
   "source": [
    "# Create the OLS model object and fit the model: without the categorical variable\n",
    "model_cca = smf.ols(\"budget ~ domestic + international + runtime\", df_mv_titles_compl_case).fit()"
   ]
  },
  {
   "attachments": {},
   "cell_type": "markdown",
   "metadata": {},
   "source": [
    "Note: Distributor, MPAA-Rating, and Genres variables are not included because these variables can't be used in other imputation methods. Thus, we can't compare the models' standard error of these variables."
   ]
  },
  {
   "attachments": {},
   "cell_type": "markdown",
   "metadata": {},
   "source": [
    "**Evaluate the model and store the evaluation**"
   ]
  },
  {
   "cell_type": "code",
   "execution_count": 74,
   "metadata": {},
   "outputs": [],
   "source": [
    "r_squared = pd.DataFrame({\"rsquared_cca\" : [model_cca.rsquared]})\n",
    "standard_error = pd.DataFrame({\"standard_error_cca\" : model_cca.bse})"
   ]
  },
  {
   "cell_type": "code",
   "execution_count": 75,
   "metadata": {},
   "outputs": [
    {
     "data": {
      "text/html": [
       "<div>\n",
       "<style scoped>\n",
       "    .dataframe tbody tr th:only-of-type {\n",
       "        vertical-align: middle;\n",
       "    }\n",
       "\n",
       "    .dataframe tbody tr th {\n",
       "        vertical-align: top;\n",
       "    }\n",
       "\n",
       "    .dataframe thead th {\n",
       "        text-align: right;\n",
       "    }\n",
       "</style>\n",
       "<table border=\"1\" class=\"dataframe\">\n",
       "  <thead>\n",
       "    <tr style=\"text-align: right;\">\n",
       "      <th></th>\n",
       "      <th>rsquared_cca</th>\n",
       "    </tr>\n",
       "  </thead>\n",
       "  <tbody>\n",
       "    <tr>\n",
       "      <th>0</th>\n",
       "      <td>0.542161</td>\n",
       "    </tr>\n",
       "  </tbody>\n",
       "</table>\n",
       "</div>"
      ],
      "text/plain": [
       "   rsquared_cca\n",
       "0      0.542161"
      ]
     },
     "execution_count": 75,
     "metadata": {},
     "output_type": "execute_result"
    }
   ],
   "source": [
    "r_squared"
   ]
  },
  {
   "cell_type": "code",
   "execution_count": 76,
   "metadata": {},
   "outputs": [
    {
     "data": {
      "text/html": [
       "<div>\n",
       "<style scoped>\n",
       "    .dataframe tbody tr th:only-of-type {\n",
       "        vertical-align: middle;\n",
       "    }\n",
       "\n",
       "    .dataframe tbody tr th {\n",
       "        vertical-align: top;\n",
       "    }\n",
       "\n",
       "    .dataframe thead th {\n",
       "        text-align: right;\n",
       "    }\n",
       "</style>\n",
       "<table border=\"1\" class=\"dataframe\">\n",
       "  <thead>\n",
       "    <tr style=\"text-align: right;\">\n",
       "      <th></th>\n",
       "      <th>standard_error_cca</th>\n",
       "    </tr>\n",
       "  </thead>\n",
       "  <tbody>\n",
       "    <tr>\n",
       "      <th>Intercept</th>\n",
       "      <td>4.561579e+06</td>\n",
       "    </tr>\n",
       "    <tr>\n",
       "      <th>domestic</th>\n",
       "      <td>1.682462e-02</td>\n",
       "    </tr>\n",
       "    <tr>\n",
       "      <th>international</th>\n",
       "      <td>9.220469e-03</td>\n",
       "    </tr>\n",
       "    <tr>\n",
       "      <th>runtime</th>\n",
       "      <td>4.227784e+04</td>\n",
       "    </tr>\n",
       "  </tbody>\n",
       "</table>\n",
       "</div>"
      ],
      "text/plain": [
       "               standard_error_cca\n",
       "Intercept            4.561579e+06\n",
       "domestic             1.682462e-02\n",
       "international        9.220469e-03\n",
       "runtime              4.227784e+04"
      ]
     },
     "execution_count": 76,
     "metadata": {},
     "output_type": "execute_result"
    }
   ],
   "source": [
    "standard_error"
   ]
  },
  {
   "attachments": {},
   "cell_type": "markdown",
   "metadata": {},
   "source": [
    "##### 2. Deterministic Regression Imputation"
   ]
  },
  {
   "cell_type": "code",
   "execution_count": 77,
   "metadata": {},
   "outputs": [
    {
     "data": {
      "text/plain": [
       "title               0.000000\n",
       "domestic            0.000000\n",
       "international       0.000000\n",
       "budget             32.147059\n",
       "distributor         0.029412\n",
       "mpaa_rating         4.588235\n",
       "runtime             0.000000\n",
       "genres              0.088235\n",
       "imp_distributor     0.000000\n",
       "imp_genres          0.000000\n",
       "imp_mpaa_rating     0.000000\n",
       "dtype: float64"
      ]
     },
     "execution_count": 77,
     "metadata": {},
     "output_type": "execute_result"
    }
   ],
   "source": [
    "# Check the percentage of missing value\n",
    "df_mv_titles.isnull().sum()/df_mv_titles.shape[0]*100"
   ]
  },
  {
   "attachments": {},
   "cell_type": "markdown",
   "metadata": {},
   "source": [
    "We will only use the 68% of the data where all variables is complete as the predictors"
   ]
  },
  {
   "cell_type": "code",
   "execution_count": 78,
   "metadata": {},
   "outputs": [],
   "source": [
    "# Exclude earning missing cases\n",
    "df_mv_titles_det = df_mv_titles.dropna(subset=['budget'])"
   ]
  },
  {
   "cell_type": "code",
   "execution_count": 79,
   "metadata": {},
   "outputs": [
    {
     "data": {
      "text/plain": [
       "title              0.000000\n",
       "domestic           0.000000\n",
       "international      0.000000\n",
       "budget             0.000000\n",
       "distributor        0.000000\n",
       "mpaa_rating        2.167317\n",
       "runtime            0.000000\n",
       "genres             0.000000\n",
       "imp_distributor    0.000000\n",
       "imp_genres         0.000000\n",
       "imp_mpaa_rating    0.000000\n",
       "dtype: float64"
      ]
     },
     "execution_count": 79,
     "metadata": {},
     "output_type": "execute_result"
    }
   ],
   "source": [
    "# Check percentage missing value in deterministic dataset\n",
    "df_mv_titles_det.isnull().sum()/df_mv_titles_det.shape[0]*100"
   ]
  },
  {
   "attachments": {},
   "cell_type": "markdown",
   "metadata": {},
   "source": [
    "**Build a regression model using the complete dataset**"
   ]
  },
  {
   "cell_type": "code",
   "execution_count": 80,
   "metadata": {},
   "outputs": [],
   "source": [
    "# Create the OLS model object and fit the model\n",
    "model_imputation_reg = smf.ols(\"budget ~ domestic + international + runtime\", df_mv_titles_det).fit()"
   ]
  },
  {
   "attachments": {},
   "cell_type": "markdown",
   "metadata": {},
   "source": [
    "Note: Distributor, MPAA-Rating, and Genres variables are not included because there's a value that only exist in the missing row. Thus, there will be and error when we try to predict the target variable."
   ]
  },
  {
   "attachments": {},
   "cell_type": "markdown",
   "metadata": {},
   "source": [
    "**Prediction the missing budget variables using the model and impute the result to the missing values**"
   ]
  },
  {
   "cell_type": "code",
   "execution_count": 81,
   "metadata": {},
   "outputs": [],
   "source": [
    "## Create a predictors dataframe by removing the budget column\n",
    "df_mv_titles_predictors = df_mv_titles.drop(columns=[\"budget\"])"
   ]
  },
  {
   "cell_type": "code",
   "execution_count": 82,
   "metadata": {},
   "outputs": [],
   "source": [
    "# Predict the budget using the deterministic model\n",
    "pred_budget_det = model_imputation_reg.predict(df_mv_titles_predictors)"
   ]
  },
  {
   "attachments": {},
   "cell_type": "markdown",
   "metadata": {},
   "source": [
    "**Impute the predicted values**"
   ]
  },
  {
   "cell_type": "code",
   "execution_count": 83,
   "metadata": {},
   "outputs": [],
   "source": [
    "# Impute the budget variables\n",
    "# Store the complete earnings that imuputed by deterministic value from regression prediction in a new variable\n",
    "\n",
    "df_mv_titles[\"imp_budget_det_reg\"] = impute(df_mv_titles['budget'], pred_budget_det)"
   ]
  },
  {
   "cell_type": "code",
   "execution_count": 84,
   "metadata": {},
   "outputs": [
    {
     "data": {
      "text/plain": [
       "title                    0\n",
       "domestic                 0\n",
       "international            0\n",
       "budget                1093\n",
       "distributor              1\n",
       "mpaa_rating            156\n",
       "runtime                  0\n",
       "genres                   3\n",
       "imp_distributor          0\n",
       "imp_genres               0\n",
       "imp_mpaa_rating          0\n",
       "imp_budget_det_reg       0\n",
       "dtype: int64"
      ]
     },
     "execution_count": 84,
     "metadata": {},
     "output_type": "execute_result"
    }
   ],
   "source": [
    "df_mv_titles.isna().sum()"
   ]
  },
  {
   "attachments": {},
   "cell_type": "markdown",
   "metadata": {},
   "source": [
    "- `imp_budget_det_reg` has 0 missing data\n",
    "- We'll build a regression model using that imputed variable and then evaluate the performance"
   ]
  },
  {
   "attachments": {},
   "cell_type": "markdown",
   "metadata": {},
   "source": [
    "**Build a regression model using the imputed budget variable**"
   ]
  },
  {
   "cell_type": "code",
   "execution_count": 85,
   "metadata": {},
   "outputs": [],
   "source": [
    "# Create the OLS model object and fit the model\n",
    "model_det_reg = smf.ols(\"imp_budget_det_reg ~ domestic + international + runtime\", df_mv_titles).fit()"
   ]
  },
  {
   "attachments": {},
   "cell_type": "markdown",
   "metadata": {},
   "source": [
    "**Evaluate the model and store the evaluation**"
   ]
  },
  {
   "cell_type": "code",
   "execution_count": 86,
   "metadata": {},
   "outputs": [],
   "source": [
    "\n",
    "r_squared[\"rsquared_det_reg\"] = model_det_reg.rsquared\n",
    "standard_error[\"standard_error_det_reg\"] = model_det_reg.bse"
   ]
  },
  {
   "cell_type": "code",
   "execution_count": 87,
   "metadata": {},
   "outputs": [
    {
     "data": {
      "text/html": [
       "<div>\n",
       "<style scoped>\n",
       "    .dataframe tbody tr th:only-of-type {\n",
       "        vertical-align: middle;\n",
       "    }\n",
       "\n",
       "    .dataframe tbody tr th {\n",
       "        vertical-align: top;\n",
       "    }\n",
       "\n",
       "    .dataframe thead th {\n",
       "        text-align: right;\n",
       "    }\n",
       "</style>\n",
       "<table border=\"1\" class=\"dataframe\">\n",
       "  <thead>\n",
       "    <tr style=\"text-align: right;\">\n",
       "      <th></th>\n",
       "      <th>rsquared_cca</th>\n",
       "      <th>rsquared_det_reg</th>\n",
       "    </tr>\n",
       "  </thead>\n",
       "  <tbody>\n",
       "    <tr>\n",
       "      <th>0</th>\n",
       "      <td>0.542161</td>\n",
       "      <td>0.591674</td>\n",
       "    </tr>\n",
       "  </tbody>\n",
       "</table>\n",
       "</div>"
      ],
      "text/plain": [
       "   rsquared_cca  rsquared_det_reg\n",
       "0      0.542161          0.591674"
      ]
     },
     "execution_count": 87,
     "metadata": {},
     "output_type": "execute_result"
    }
   ],
   "source": [
    "r_squared"
   ]
  },
  {
   "cell_type": "code",
   "execution_count": 88,
   "metadata": {},
   "outputs": [
    {
     "data": {
      "text/html": [
       "<div>\n",
       "<style scoped>\n",
       "    .dataframe tbody tr th:only-of-type {\n",
       "        vertical-align: middle;\n",
       "    }\n",
       "\n",
       "    .dataframe tbody tr th {\n",
       "        vertical-align: top;\n",
       "    }\n",
       "\n",
       "    .dataframe thead th {\n",
       "        text-align: right;\n",
       "    }\n",
       "</style>\n",
       "<table border=\"1\" class=\"dataframe\">\n",
       "  <thead>\n",
       "    <tr style=\"text-align: right;\">\n",
       "      <th></th>\n",
       "      <th>standard_error_cca</th>\n",
       "      <th>standard_error_det_reg</th>\n",
       "    </tr>\n",
       "  </thead>\n",
       "  <tbody>\n",
       "    <tr>\n",
       "      <th>Intercept</th>\n",
       "      <td>4.561579e+06</td>\n",
       "      <td>2.952277e+06</td>\n",
       "    </tr>\n",
       "    <tr>\n",
       "      <th>domestic</th>\n",
       "      <td>1.682462e-02</td>\n",
       "      <td>1.170837e-02</td>\n",
       "    </tr>\n",
       "    <tr>\n",
       "      <th>international</th>\n",
       "      <td>9.220469e-03</td>\n",
       "      <td>6.529237e-03</td>\n",
       "    </tr>\n",
       "    <tr>\n",
       "      <th>runtime</th>\n",
       "      <td>4.227784e+04</td>\n",
       "      <td>2.737619e+04</td>\n",
       "    </tr>\n",
       "  </tbody>\n",
       "</table>\n",
       "</div>"
      ],
      "text/plain": [
       "               standard_error_cca  standard_error_det_reg\n",
       "Intercept            4.561579e+06            2.952277e+06\n",
       "domestic             1.682462e-02            1.170837e-02\n",
       "international        9.220469e-03            6.529237e-03\n",
       "runtime              4.227784e+04            2.737619e+04"
      ]
     },
     "execution_count": 88,
     "metadata": {},
     "output_type": "execute_result"
    }
   ],
   "source": [
    "standard_error"
   ]
  },
  {
   "attachments": {},
   "cell_type": "markdown",
   "metadata": {},
   "source": [
    "##### 3. Random Regression Imputation"
   ]
  },
  {
   "cell_type": "code",
   "execution_count": 89,
   "metadata": {},
   "outputs": [
    {
     "name": "stdout",
     "output_type": "stream",
     "text": [
      "estimated residual standard deviation from the model: 35030280.5\n"
     ]
    }
   ],
   "source": [
    "# residual standard deviation\n",
    "sigma = np.sqrt(model_imputation_reg.mse_resid)\n",
    "\n",
    "print(f\"estimated residual standard deviation from the model: {np.round(sigma,1)}\")"
   ]
  },
  {
   "attachments": {},
   "cell_type": "markdown",
   "metadata": {},
   "source": [
    "**Store each random prediction error in a normal distribution**"
   ]
  },
  {
   "cell_type": "code",
   "execution_count": 90,
   "metadata": {},
   "outputs": [],
   "source": [
    "np.random.seed(1)\n",
    "\n",
    "error = np.random.normal(0, sigma, len(df_mv_titles_predictors))"
   ]
  },
  {
   "attachments": {},
   "cell_type": "markdown",
   "metadata": {},
   "source": [
    "**Predict the missing budget variables using the model and the randomized error and then impute the predicted values**"
   ]
  },
  {
   "cell_type": "code",
   "execution_count": 91,
   "metadata": {},
   "outputs": [],
   "source": [
    "# Predict the values using the model and the error\n",
    "pred_budget_rand_reg = model_imputation_reg.predict(df_mv_titles_predictors) + error\n",
    "\n",
    "# Impute missing earning with prediction results\n",
    "df_mv_titles[\"imp_budget_rand_reg\"] = impute(df_mv_titles['budget'], pred_budget_rand_reg)"
   ]
  },
  {
   "cell_type": "code",
   "execution_count": 92,
   "metadata": {},
   "outputs": [
    {
     "data": {
      "text/plain": [
       "title                     0\n",
       "domestic                  0\n",
       "international             0\n",
       "budget                 1093\n",
       "distributor               1\n",
       "mpaa_rating             156\n",
       "runtime                   0\n",
       "genres                    3\n",
       "imp_distributor           0\n",
       "imp_genres                0\n",
       "imp_mpaa_rating           0\n",
       "imp_budget_det_reg        0\n",
       "imp_budget_rand_reg       0\n",
       "dtype: int64"
      ]
     },
     "execution_count": 92,
     "metadata": {},
     "output_type": "execute_result"
    }
   ],
   "source": [
    "# Check total missing data where earnings are imputed and stored in `imp_earnings_rand_reg`\n",
    "\n",
    "df_mv_titles.isna().sum()"
   ]
  },
  {
   "attachments": {},
   "cell_type": "markdown",
   "metadata": {},
   "source": [
    "- `imp_budget_rand_reg` has 0 missing data\n",
    "- We'll then build a regression model based on that imputed budget values"
   ]
  },
  {
   "attachments": {},
   "cell_type": "markdown",
   "metadata": {},
   "source": [
    "**Build regression model**"
   ]
  },
  {
   "cell_type": "code",
   "execution_count": 93,
   "metadata": {},
   "outputs": [],
   "source": [
    "# Create the OLS model object and fit the model\n",
    "model_rand_reg = smf.ols(\"imp_budget_rand_reg ~ domestic + international + runtime\", df_mv_titles).fit()"
   ]
  },
  {
   "attachments": {},
   "cell_type": "markdown",
   "metadata": {},
   "source": [
    "**Evaluate the model and store the evaluation**"
   ]
  },
  {
   "cell_type": "code",
   "execution_count": 94,
   "metadata": {},
   "outputs": [],
   "source": [
    "\n",
    "r_squared[\"rsquared_rand_reg\"] = model_rand_reg.rsquared\n",
    "standard_error[\"standard_error_rand_reg\"] = model_rand_reg.bse"
   ]
  },
  {
   "cell_type": "code",
   "execution_count": 95,
   "metadata": {},
   "outputs": [
    {
     "data": {
      "text/html": [
       "<div>\n",
       "<style scoped>\n",
       "    .dataframe tbody tr th:only-of-type {\n",
       "        vertical-align: middle;\n",
       "    }\n",
       "\n",
       "    .dataframe tbody tr th {\n",
       "        vertical-align: top;\n",
       "    }\n",
       "\n",
       "    .dataframe thead th {\n",
       "        text-align: right;\n",
       "    }\n",
       "</style>\n",
       "<table border=\"1\" class=\"dataframe\">\n",
       "  <thead>\n",
       "    <tr style=\"text-align: right;\">\n",
       "      <th></th>\n",
       "      <th>rsquared_cca</th>\n",
       "      <th>rsquared_det_reg</th>\n",
       "      <th>rsquared_rand_reg</th>\n",
       "    </tr>\n",
       "  </thead>\n",
       "  <tbody>\n",
       "    <tr>\n",
       "      <th>0</th>\n",
       "      <td>0.542161</td>\n",
       "      <td>0.591674</td>\n",
       "      <td>0.493344</td>\n",
       "    </tr>\n",
       "  </tbody>\n",
       "</table>\n",
       "</div>"
      ],
      "text/plain": [
       "   rsquared_cca  rsquared_det_reg  rsquared_rand_reg\n",
       "0      0.542161          0.591674           0.493344"
      ]
     },
     "execution_count": 95,
     "metadata": {},
     "output_type": "execute_result"
    }
   ],
   "source": [
    "r_squared"
   ]
  },
  {
   "cell_type": "code",
   "execution_count": 96,
   "metadata": {},
   "outputs": [
    {
     "data": {
      "text/html": [
       "<div>\n",
       "<style scoped>\n",
       "    .dataframe tbody tr th:only-of-type {\n",
       "        vertical-align: middle;\n",
       "    }\n",
       "\n",
       "    .dataframe tbody tr th {\n",
       "        vertical-align: top;\n",
       "    }\n",
       "\n",
       "    .dataframe thead th {\n",
       "        text-align: right;\n",
       "    }\n",
       "</style>\n",
       "<table border=\"1\" class=\"dataframe\">\n",
       "  <thead>\n",
       "    <tr style=\"text-align: right;\">\n",
       "      <th></th>\n",
       "      <th>standard_error_cca</th>\n",
       "      <th>standard_error_det_reg</th>\n",
       "      <th>standard_error_rand_reg</th>\n",
       "    </tr>\n",
       "  </thead>\n",
       "  <tbody>\n",
       "    <tr>\n",
       "      <th>Intercept</th>\n",
       "      <td>4.561579e+06</td>\n",
       "      <td>2.952277e+06</td>\n",
       "      <td>3.578436e+06</td>\n",
       "    </tr>\n",
       "    <tr>\n",
       "      <th>domestic</th>\n",
       "      <td>1.682462e-02</td>\n",
       "      <td>1.170837e-02</td>\n",
       "      <td>1.419164e-02</td>\n",
       "    </tr>\n",
       "    <tr>\n",
       "      <th>international</th>\n",
       "      <td>9.220469e-03</td>\n",
       "      <td>6.529237e-03</td>\n",
       "      <td>7.914048e-03</td>\n",
       "    </tr>\n",
       "    <tr>\n",
       "      <th>runtime</th>\n",
       "      <td>4.227784e+04</td>\n",
       "      <td>2.737619e+04</td>\n",
       "      <td>3.318251e+04</td>\n",
       "    </tr>\n",
       "  </tbody>\n",
       "</table>\n",
       "</div>"
      ],
      "text/plain": [
       "               standard_error_cca  standard_error_det_reg  \\\n",
       "Intercept            4.561579e+06            2.952277e+06   \n",
       "domestic             1.682462e-02            1.170837e-02   \n",
       "international        9.220469e-03            6.529237e-03   \n",
       "runtime              4.227784e+04            2.737619e+04   \n",
       "\n",
       "               standard_error_rand_reg  \n",
       "Intercept                 3.578436e+06  \n",
       "domestic                  1.419164e-02  \n",
       "international             7.914048e-03  \n",
       "runtime                   3.318251e+04  "
      ]
     },
     "execution_count": 96,
     "metadata": {},
     "output_type": "execute_result"
    }
   ],
   "source": [
    "standard_error"
   ]
  },
  {
   "attachments": {},
   "cell_type": "markdown",
   "metadata": {},
   "source": [
    "**Decision:** we'll use the budget variable imputed using deterministic regression for our analysis since it has the largest r-squared score and smallest standard error."
   ]
  },
  {
   "attachments": {},
   "cell_type": "markdown",
   "metadata": {},
   "source": [
    "## Join the Tables using Pandasql"
   ]
  },
  {
   "cell_type": "code",
   "execution_count": 100,
   "metadata": {},
   "outputs": [
    {
     "data": {
      "text/html": [
       "<div>\n",
       "<style scoped>\n",
       "    .dataframe tbody tr th:only-of-type {\n",
       "        vertical-align: middle;\n",
       "    }\n",
       "\n",
       "    .dataframe tbody tr th {\n",
       "        vertical-align: top;\n",
       "    }\n",
       "\n",
       "    .dataframe thead th {\n",
       "        text-align: right;\n",
       "    }\n",
       "</style>\n",
       "<table border=\"1\" class=\"dataframe\">\n",
       "  <thead>\n",
       "    <tr style=\"text-align: right;\">\n",
       "      <th></th>\n",
       "      <th>title</th>\n",
       "      <th>domestic</th>\n",
       "      <th>international</th>\n",
       "      <th>budget</th>\n",
       "      <th>distributor</th>\n",
       "      <th>mpaa_rating</th>\n",
       "      <th>runtime</th>\n",
       "      <th>genres</th>\n",
       "      <th>imp_distributor</th>\n",
       "      <th>imp_genres</th>\n",
       "      <th>imp_mpaa_rating</th>\n",
       "      <th>imp_budget_det_reg</th>\n",
       "      <th>imp_budget_rand_reg</th>\n",
       "      <th>title</th>\n",
       "      <th>date</th>\n",
       "      <th>daily</th>\n",
       "      <th>theaters</th>\n",
       "      <th>rank</th>\n",
       "      <th>imp_theaters</th>\n",
       "    </tr>\n",
       "  </thead>\n",
       "  <tbody>\n",
       "    <tr>\n",
       "      <th>0</th>\n",
       "      <td>Jurassic World (2015)</td>\n",
       "      <td>652270625</td>\n",
       "      <td>1018130012</td>\n",
       "      <td>150000000.0</td>\n",
       "      <td>Universal Pictures</td>\n",
       "      <td>PG-13</td>\n",
       "      <td>124</td>\n",
       "      <td>Action;Adventure;Sci-Fi</td>\n",
       "      <td>Universal Pictures</td>\n",
       "      <td>Action;Adventure;Sci-Fi</td>\n",
       "      <td>PG-13</td>\n",
       "      <td>1.500000e+08</td>\n",
       "      <td>1.500000e+08</td>\n",
       "      <td>Jurassic World (2015)</td>\n",
       "      <td>2015-06-12</td>\n",
       "      <td>81953950</td>\n",
       "      <td>4274.0</td>\n",
       "      <td>1</td>\n",
       "      <td>4274.0</td>\n",
       "    </tr>\n",
       "    <tr>\n",
       "      <th>1</th>\n",
       "      <td>Jurassic World (2015)</td>\n",
       "      <td>652270625</td>\n",
       "      <td>1018130012</td>\n",
       "      <td>150000000.0</td>\n",
       "      <td>Universal Pictures</td>\n",
       "      <td>PG-13</td>\n",
       "      <td>124</td>\n",
       "      <td>Action;Adventure;Sci-Fi</td>\n",
       "      <td>Universal Pictures</td>\n",
       "      <td>Action;Adventure;Sci-Fi</td>\n",
       "      <td>PG-13</td>\n",
       "      <td>1.500000e+08</td>\n",
       "      <td>1.500000e+08</td>\n",
       "      <td>Jurassic World (2015)</td>\n",
       "      <td>2015-06-13</td>\n",
       "      <td>69644830</td>\n",
       "      <td>4274.0</td>\n",
       "      <td>1</td>\n",
       "      <td>4274.0</td>\n",
       "    </tr>\n",
       "    <tr>\n",
       "      <th>2</th>\n",
       "      <td>Jurassic World (2015)</td>\n",
       "      <td>652270625</td>\n",
       "      <td>1018130012</td>\n",
       "      <td>150000000.0</td>\n",
       "      <td>Universal Pictures</td>\n",
       "      <td>PG-13</td>\n",
       "      <td>124</td>\n",
       "      <td>Action;Adventure;Sci-Fi</td>\n",
       "      <td>Universal Pictures</td>\n",
       "      <td>Action;Adventure;Sci-Fi</td>\n",
       "      <td>PG-13</td>\n",
       "      <td>1.500000e+08</td>\n",
       "      <td>1.500000e+08</td>\n",
       "      <td>Jurassic World (2015)</td>\n",
       "      <td>2015-06-14</td>\n",
       "      <td>57207490</td>\n",
       "      <td>4274.0</td>\n",
       "      <td>1</td>\n",
       "      <td>4274.0</td>\n",
       "    </tr>\n",
       "    <tr>\n",
       "      <th>3</th>\n",
       "      <td>Jurassic World (2015)</td>\n",
       "      <td>652270625</td>\n",
       "      <td>1018130012</td>\n",
       "      <td>150000000.0</td>\n",
       "      <td>Universal Pictures</td>\n",
       "      <td>PG-13</td>\n",
       "      <td>124</td>\n",
       "      <td>Action;Adventure;Sci-Fi</td>\n",
       "      <td>Universal Pictures</td>\n",
       "      <td>Action;Adventure;Sci-Fi</td>\n",
       "      <td>PG-13</td>\n",
       "      <td>1.500000e+08</td>\n",
       "      <td>1.500000e+08</td>\n",
       "      <td>Jurassic World (2015)</td>\n",
       "      <td>2015-06-15</td>\n",
       "      <td>25344820</td>\n",
       "      <td>4274.0</td>\n",
       "      <td>1</td>\n",
       "      <td>4274.0</td>\n",
       "    </tr>\n",
       "    <tr>\n",
       "      <th>4</th>\n",
       "      <td>Jurassic World (2015)</td>\n",
       "      <td>652270625</td>\n",
       "      <td>1018130012</td>\n",
       "      <td>150000000.0</td>\n",
       "      <td>Universal Pictures</td>\n",
       "      <td>PG-13</td>\n",
       "      <td>124</td>\n",
       "      <td>Action;Adventure;Sci-Fi</td>\n",
       "      <td>Universal Pictures</td>\n",
       "      <td>Action;Adventure;Sci-Fi</td>\n",
       "      <td>PG-13</td>\n",
       "      <td>1.500000e+08</td>\n",
       "      <td>1.500000e+08</td>\n",
       "      <td>Jurassic World (2015)</td>\n",
       "      <td>2015-06-16</td>\n",
       "      <td>24342515</td>\n",
       "      <td>4274.0</td>\n",
       "      <td>1</td>\n",
       "      <td>4274.0</td>\n",
       "    </tr>\n",
       "    <tr>\n",
       "      <th>...</th>\n",
       "      <td>...</td>\n",
       "      <td>...</td>\n",
       "      <td>...</td>\n",
       "      <td>...</td>\n",
       "      <td>...</td>\n",
       "      <td>...</td>\n",
       "      <td>...</td>\n",
       "      <td>...</td>\n",
       "      <td>...</td>\n",
       "      <td>...</td>\n",
       "      <td>...</td>\n",
       "      <td>...</td>\n",
       "      <td>...</td>\n",
       "      <td>...</td>\n",
       "      <td>...</td>\n",
       "      <td>...</td>\n",
       "      <td>...</td>\n",
       "      <td>...</td>\n",
       "      <td>...</td>\n",
       "    </tr>\n",
       "    <tr>\n",
       "      <th>254057</th>\n",
       "      <td>A Call to Spy (2020)</td>\n",
       "      <td>159014</td>\n",
       "      <td>681026</td>\n",
       "      <td>NaN</td>\n",
       "      <td>IFC Films</td>\n",
       "      <td>PG-13</td>\n",
       "      <td>123</td>\n",
       "      <td>Biography;Crime;Drama;Thriller;War</td>\n",
       "      <td>IFC Films</td>\n",
       "      <td>Biography;Crime;Drama;Thriller;War</td>\n",
       "      <td>PG-13</td>\n",
       "      <td>3.697069e+07</td>\n",
       "      <td>1.652785e+07</td>\n",
       "      <td>A Call to Spy (2020)</td>\n",
       "      <td>2020-11-17</td>\n",
       "      <td>623</td>\n",
       "      <td>8.0</td>\n",
       "      <td>17</td>\n",
       "      <td>8.0</td>\n",
       "    </tr>\n",
       "    <tr>\n",
       "      <th>254058</th>\n",
       "      <td>A Call to Spy (2020)</td>\n",
       "      <td>159014</td>\n",
       "      <td>681026</td>\n",
       "      <td>NaN</td>\n",
       "      <td>IFC Films</td>\n",
       "      <td>PG-13</td>\n",
       "      <td>123</td>\n",
       "      <td>Biography;Crime;Drama;Thriller;War</td>\n",
       "      <td>IFC Films</td>\n",
       "      <td>Biography;Crime;Drama;Thriller;War</td>\n",
       "      <td>PG-13</td>\n",
       "      <td>3.697069e+07</td>\n",
       "      <td>1.652785e+07</td>\n",
       "      <td>A Call to Spy (2020)</td>\n",
       "      <td>2020-11-18</td>\n",
       "      <td>568</td>\n",
       "      <td>8.0</td>\n",
       "      <td>17</td>\n",
       "      <td>8.0</td>\n",
       "    </tr>\n",
       "    <tr>\n",
       "      <th>254059</th>\n",
       "      <td>A Call to Spy (2020)</td>\n",
       "      <td>159014</td>\n",
       "      <td>681026</td>\n",
       "      <td>NaN</td>\n",
       "      <td>IFC Films</td>\n",
       "      <td>PG-13</td>\n",
       "      <td>123</td>\n",
       "      <td>Biography;Crime;Drama;Thriller;War</td>\n",
       "      <td>IFC Films</td>\n",
       "      <td>Biography;Crime;Drama;Thriller;War</td>\n",
       "      <td>PG-13</td>\n",
       "      <td>3.697069e+07</td>\n",
       "      <td>1.652785e+07</td>\n",
       "      <td>A Call to Spy (2020)</td>\n",
       "      <td>2020-11-19</td>\n",
       "      <td>597</td>\n",
       "      <td>8.0</td>\n",
       "      <td>17</td>\n",
       "      <td>8.0</td>\n",
       "    </tr>\n",
       "    <tr>\n",
       "      <th>254060</th>\n",
       "      <td>Love Story (2020)</td>\n",
       "      <td>153504</td>\n",
       "      <td>153504</td>\n",
       "      <td>NaN</td>\n",
       "      <td>Fathom Events</td>\n",
       "      <td>PG</td>\n",
       "      <td>100</td>\n",
       "      <td>Drama;Romance</td>\n",
       "      <td>Fathom Events</td>\n",
       "      <td>Drama;Romance</td>\n",
       "      <td>PG</td>\n",
       "      <td>2.720349e+07</td>\n",
       "      <td>-2.690033e+07</td>\n",
       "      <td>Love Story (2020)</td>\n",
       "      <td>2020-02-09</td>\n",
       "      <td>87198</td>\n",
       "      <td>650.0</td>\n",
       "      <td>20</td>\n",
       "      <td>650.0</td>\n",
       "    </tr>\n",
       "    <tr>\n",
       "      <th>254061</th>\n",
       "      <td>Love Story (2020)</td>\n",
       "      <td>153504</td>\n",
       "      <td>153504</td>\n",
       "      <td>NaN</td>\n",
       "      <td>Fathom Events</td>\n",
       "      <td>PG</td>\n",
       "      <td>100</td>\n",
       "      <td>Drama;Romance</td>\n",
       "      <td>Fathom Events</td>\n",
       "      <td>Drama;Romance</td>\n",
       "      <td>PG</td>\n",
       "      <td>2.720349e+07</td>\n",
       "      <td>-2.690033e+07</td>\n",
       "      <td>Love Story (2020)</td>\n",
       "      <td>2020-02-12</td>\n",
       "      <td>66306</td>\n",
       "      <td>650.0</td>\n",
       "      <td>18</td>\n",
       "      <td>650.0</td>\n",
       "    </tr>\n",
       "  </tbody>\n",
       "</table>\n",
       "<p>254062 rows × 19 columns</p>\n",
       "</div>"
      ],
      "text/plain": [
       "                        title   domestic  international       budget  \\\n",
       "0       Jurassic World (2015)  652270625     1018130012  150000000.0   \n",
       "1       Jurassic World (2015)  652270625     1018130012  150000000.0   \n",
       "2       Jurassic World (2015)  652270625     1018130012  150000000.0   \n",
       "3       Jurassic World (2015)  652270625     1018130012  150000000.0   \n",
       "4       Jurassic World (2015)  652270625     1018130012  150000000.0   \n",
       "...                       ...        ...            ...          ...   \n",
       "254057   A Call to Spy (2020)     159014         681026          NaN   \n",
       "254058   A Call to Spy (2020)     159014         681026          NaN   \n",
       "254059   A Call to Spy (2020)     159014         681026          NaN   \n",
       "254060      Love Story (2020)     153504         153504          NaN   \n",
       "254061      Love Story (2020)     153504         153504          NaN   \n",
       "\n",
       "               distributor mpaa_rating  runtime  \\\n",
       "0       Universal Pictures       PG-13      124   \n",
       "1       Universal Pictures       PG-13      124   \n",
       "2       Universal Pictures       PG-13      124   \n",
       "3       Universal Pictures       PG-13      124   \n",
       "4       Universal Pictures       PG-13      124   \n",
       "...                    ...         ...      ...   \n",
       "254057           IFC Films       PG-13      123   \n",
       "254058           IFC Films       PG-13      123   \n",
       "254059           IFC Films       PG-13      123   \n",
       "254060       Fathom Events          PG      100   \n",
       "254061       Fathom Events          PG      100   \n",
       "\n",
       "                                    genres     imp_distributor  \\\n",
       "0                  Action;Adventure;Sci-Fi  Universal Pictures   \n",
       "1                  Action;Adventure;Sci-Fi  Universal Pictures   \n",
       "2                  Action;Adventure;Sci-Fi  Universal Pictures   \n",
       "3                  Action;Adventure;Sci-Fi  Universal Pictures   \n",
       "4                  Action;Adventure;Sci-Fi  Universal Pictures   \n",
       "...                                    ...                 ...   \n",
       "254057  Biography;Crime;Drama;Thriller;War           IFC Films   \n",
       "254058  Biography;Crime;Drama;Thriller;War           IFC Films   \n",
       "254059  Biography;Crime;Drama;Thriller;War           IFC Films   \n",
       "254060                       Drama;Romance       Fathom Events   \n",
       "254061                       Drama;Romance       Fathom Events   \n",
       "\n",
       "                                imp_genres imp_mpaa_rating  \\\n",
       "0                  Action;Adventure;Sci-Fi           PG-13   \n",
       "1                  Action;Adventure;Sci-Fi           PG-13   \n",
       "2                  Action;Adventure;Sci-Fi           PG-13   \n",
       "3                  Action;Adventure;Sci-Fi           PG-13   \n",
       "4                  Action;Adventure;Sci-Fi           PG-13   \n",
       "...                                    ...             ...   \n",
       "254057  Biography;Crime;Drama;Thriller;War           PG-13   \n",
       "254058  Biography;Crime;Drama;Thriller;War           PG-13   \n",
       "254059  Biography;Crime;Drama;Thriller;War           PG-13   \n",
       "254060                       Drama;Romance              PG   \n",
       "254061                       Drama;Romance              PG   \n",
       "\n",
       "        imp_budget_det_reg  imp_budget_rand_reg                  title  \\\n",
       "0             1.500000e+08         1.500000e+08  Jurassic World (2015)   \n",
       "1             1.500000e+08         1.500000e+08  Jurassic World (2015)   \n",
       "2             1.500000e+08         1.500000e+08  Jurassic World (2015)   \n",
       "3             1.500000e+08         1.500000e+08  Jurassic World (2015)   \n",
       "4             1.500000e+08         1.500000e+08  Jurassic World (2015)   \n",
       "...                    ...                  ...                    ...   \n",
       "254057        3.697069e+07         1.652785e+07   A Call to Spy (2020)   \n",
       "254058        3.697069e+07         1.652785e+07   A Call to Spy (2020)   \n",
       "254059        3.697069e+07         1.652785e+07   A Call to Spy (2020)   \n",
       "254060        2.720349e+07        -2.690033e+07      Love Story (2020)   \n",
       "254061        2.720349e+07        -2.690033e+07      Love Story (2020)   \n",
       "\n",
       "              date     daily  theaters  rank  imp_theaters  \n",
       "0       2015-06-12  81953950    4274.0     1        4274.0  \n",
       "1       2015-06-13  69644830    4274.0     1        4274.0  \n",
       "2       2015-06-14  57207490    4274.0     1        4274.0  \n",
       "3       2015-06-15  25344820    4274.0     1        4274.0  \n",
       "4       2015-06-16  24342515    4274.0     1        4274.0  \n",
       "...            ...       ...       ...   ...           ...  \n",
       "254057  2020-11-17       623       8.0    17           8.0  \n",
       "254058  2020-11-18       568       8.0    17           8.0  \n",
       "254059  2020-11-19       597       8.0    17           8.0  \n",
       "254060  2020-02-09     87198     650.0    20         650.0  \n",
       "254061  2020-02-12     66306     650.0    18         650.0  \n",
       "\n",
       "[254062 rows x 19 columns]"
      ]
     },
     "execution_count": 100,
     "metadata": {},
     "output_type": "execute_result"
    }
   ],
   "source": [
    "query_join_movie_tables = \"\"\"\n",
    "SELECT *\n",
    "FROM df_mv_titles AS mvt\n",
    "JOIN df_mv_daily_earnings AS mvde\n",
    "ON mvt.title = mvde.title\n",
    "\"\"\"\n",
    "\n",
    "df_mv_joined = ps.sqldf(query_join_movie_tables, locals())\n",
    "df_mv_joined"
   ]
  },
  {
   "cell_type": "code",
   "execution_count": 105,
   "metadata": {},
   "outputs": [
    {
     "data": {
      "text/html": [
       "<div>\n",
       "<style scoped>\n",
       "    .dataframe tbody tr th:only-of-type {\n",
       "        vertical-align: middle;\n",
       "    }\n",
       "\n",
       "    .dataframe tbody tr th {\n",
       "        vertical-align: top;\n",
       "    }\n",
       "\n",
       "    .dataframe thead th {\n",
       "        text-align: right;\n",
       "    }\n",
       "</style>\n",
       "<table border=\"1\" class=\"dataframe\">\n",
       "  <thead>\n",
       "    <tr style=\"text-align: right;\">\n",
       "      <th></th>\n",
       "      <th>title</th>\n",
       "      <th>dom_earning</th>\n",
       "      <th>int_earning</th>\n",
       "      <th>budget</th>\n",
       "      <th>profit_margin</th>\n",
       "      <th>distributor</th>\n",
       "      <th>mpaa_rating</th>\n",
       "      <th>runtime</th>\n",
       "      <th>genres</th>\n",
       "    </tr>\n",
       "  </thead>\n",
       "  <tbody>\n",
       "    <tr>\n",
       "      <th>0</th>\n",
       "      <td>10 Cloverfield Lane (2016)</td>\n",
       "      <td>72082998</td>\n",
       "      <td>38134000</td>\n",
       "      <td>4.129626e+07</td>\n",
       "      <td>1.668934</td>\n",
       "      <td>Paramount Pictures</td>\n",
       "      <td>PG-13</td>\n",
       "      <td>103</td>\n",
       "      <td>Action;Drama;Horror;Sci-Fi;Thriller</td>\n",
       "    </tr>\n",
       "    <tr>\n",
       "      <th>1</th>\n",
       "      <td>10,000 BC (2008)</td>\n",
       "      <td>94784201</td>\n",
       "      <td>175000000</td>\n",
       "      <td>1.050000e+08</td>\n",
       "      <td>1.569373</td>\n",
       "      <td>Warner Bros.</td>\n",
       "      <td>PG-13</td>\n",
       "      <td>109</td>\n",
       "      <td>Action;Adventure;Drama;Fantasy;History</td>\n",
       "    </tr>\n",
       "    <tr>\n",
       "      <th>2</th>\n",
       "      <td>102 Dalmatians (2000)</td>\n",
       "      <td>66957026</td>\n",
       "      <td>116654745</td>\n",
       "      <td>8.500000e+07</td>\n",
       "      <td>1.160138</td>\n",
       "      <td>Walt Disney Studios Motion Pictures</td>\n",
       "      <td>PG-13</td>\n",
       "      <td>100</td>\n",
       "      <td>Adventure;Comedy;Family</td>\n",
       "    </tr>\n",
       "    <tr>\n",
       "      <th>3</th>\n",
       "      <td>12 Rounds (2009)</td>\n",
       "      <td>12234694</td>\n",
       "      <td>5045632</td>\n",
       "      <td>3.245861e+07</td>\n",
       "      <td>-0.467620</td>\n",
       "      <td>Twentieth Century Fox</td>\n",
       "      <td>PG-13</td>\n",
       "      <td>108</td>\n",
       "      <td>Action;Crime;Thriller</td>\n",
       "    </tr>\n",
       "    <tr>\n",
       "      <th>4</th>\n",
       "      <td>12 Strong (2018)</td>\n",
       "      <td>45819713</td>\n",
       "      <td>21631102</td>\n",
       "      <td>4.749780e+07</td>\n",
       "      <td>0.420083</td>\n",
       "      <td>Warner Bros.</td>\n",
       "      <td>R</td>\n",
       "      <td>130</td>\n",
       "      <td>Action;Drama;History;War</td>\n",
       "    </tr>\n",
       "    <tr>\n",
       "      <th>...</th>\n",
       "      <td>...</td>\n",
       "      <td>...</td>\n",
       "      <td>...</td>\n",
       "      <td>...</td>\n",
       "      <td>...</td>\n",
       "      <td>...</td>\n",
       "      <td>...</td>\n",
       "      <td>...</td>\n",
       "      <td>...</td>\n",
       "    </tr>\n",
       "    <tr>\n",
       "      <th>3395</th>\n",
       "      <td>Zootopia (2016)</td>\n",
       "      <td>341268248</td>\n",
       "      <td>682515947</td>\n",
       "      <td>1.807390e+08</td>\n",
       "      <td>4.664436</td>\n",
       "      <td>Walt Disney Studios Motion Pictures</td>\n",
       "      <td>PG</td>\n",
       "      <td>108</td>\n",
       "      <td>Adventure;Animation;Comedy;Crime;Family;Mystery</td>\n",
       "    </tr>\n",
       "    <tr>\n",
       "      <th>3396</th>\n",
       "      <td>xXx (2002)</td>\n",
       "      <td>142109382</td>\n",
       "      <td>135339000</td>\n",
       "      <td>7.000000e+07</td>\n",
       "      <td>2.963548</td>\n",
       "      <td>Revolution Studios</td>\n",
       "      <td>PG-13</td>\n",
       "      <td>124</td>\n",
       "      <td>Action;Adventure;Thriller</td>\n",
       "    </tr>\n",
       "    <tr>\n",
       "      <th>3397</th>\n",
       "      <td>xXx: Return of Xander Cage (2017)</td>\n",
       "      <td>44898413</td>\n",
       "      <td>301219864</td>\n",
       "      <td>8.500000e+07</td>\n",
       "      <td>3.071980</td>\n",
       "      <td>Paramount Pictures</td>\n",
       "      <td>PG-13</td>\n",
       "      <td>107</td>\n",
       "      <td>Action;Adventure;Thriller</td>\n",
       "    </tr>\n",
       "    <tr>\n",
       "      <th>3398</th>\n",
       "      <td>xXx: State of the Union (2005)</td>\n",
       "      <td>26873932</td>\n",
       "      <td>44148761</td>\n",
       "      <td>3.770564e+07</td>\n",
       "      <td>0.883609</td>\n",
       "      <td>Revolution Studios</td>\n",
       "      <td>PG-13</td>\n",
       "      <td>101</td>\n",
       "      <td>Action;Adventure;Crime;Sci-Fi;Thriller</td>\n",
       "    </tr>\n",
       "    <tr>\n",
       "      <th>3399</th>\n",
       "      <td>Æon Flux (2005)</td>\n",
       "      <td>25874337</td>\n",
       "      <td>27447336</td>\n",
       "      <td>6.200000e+07</td>\n",
       "      <td>-0.139973</td>\n",
       "      <td>Paramount Pictures</td>\n",
       "      <td>PG-13</td>\n",
       "      <td>93</td>\n",
       "      <td>Action;Adventure;Sci-Fi;Thriller</td>\n",
       "    </tr>\n",
       "  </tbody>\n",
       "</table>\n",
       "<p>3400 rows × 9 columns</p>\n",
       "</div>"
      ],
      "text/plain": [
       "                                  title  dom_earning  int_earning  \\\n",
       "0            10 Cloverfield Lane (2016)     72082998     38134000   \n",
       "1                      10,000 BC (2008)     94784201    175000000   \n",
       "2                 102 Dalmatians (2000)     66957026    116654745   \n",
       "3                      12 Rounds (2009)     12234694      5045632   \n",
       "4                      12 Strong (2018)     45819713     21631102   \n",
       "...                                 ...          ...          ...   \n",
       "3395                    Zootopia (2016)    341268248    682515947   \n",
       "3396                         xXx (2002)    142109382    135339000   \n",
       "3397  xXx: Return of Xander Cage (2017)     44898413    301219864   \n",
       "3398     xXx: State of the Union (2005)     26873932     44148761   \n",
       "3399                    Æon Flux (2005)     25874337     27447336   \n",
       "\n",
       "            budget  profit_margin                          distributor  \\\n",
       "0     4.129626e+07       1.668934                   Paramount Pictures   \n",
       "1     1.050000e+08       1.569373                         Warner Bros.   \n",
       "2     8.500000e+07       1.160138  Walt Disney Studios Motion Pictures   \n",
       "3     3.245861e+07      -0.467620                Twentieth Century Fox   \n",
       "4     4.749780e+07       0.420083                         Warner Bros.   \n",
       "...            ...            ...                                  ...   \n",
       "3395  1.807390e+08       4.664436  Walt Disney Studios Motion Pictures   \n",
       "3396  7.000000e+07       2.963548                   Revolution Studios   \n",
       "3397  8.500000e+07       3.071980                   Paramount Pictures   \n",
       "3398  3.770564e+07       0.883609                   Revolution Studios   \n",
       "3399  6.200000e+07      -0.139973                   Paramount Pictures   \n",
       "\n",
       "     mpaa_rating  runtime                                           genres  \n",
       "0          PG-13      103              Action;Drama;Horror;Sci-Fi;Thriller  \n",
       "1          PG-13      109           Action;Adventure;Drama;Fantasy;History  \n",
       "2          PG-13      100                          Adventure;Comedy;Family  \n",
       "3          PG-13      108                            Action;Crime;Thriller  \n",
       "4              R      130                         Action;Drama;History;War  \n",
       "...          ...      ...                                              ...  \n",
       "3395          PG      108  Adventure;Animation;Comedy;Crime;Family;Mystery  \n",
       "3396       PG-13      124                        Action;Adventure;Thriller  \n",
       "3397       PG-13      107                        Action;Adventure;Thriller  \n",
       "3398       PG-13      101           Action;Adventure;Crime;Sci-Fi;Thriller  \n",
       "3399       PG-13       93                 Action;Adventure;Sci-Fi;Thriller  \n",
       "\n",
       "[3400 rows x 9 columns]"
      ]
     },
     "execution_count": 105,
     "metadata": {},
     "output_type": "execute_result"
    }
   ],
   "source": [
    "query_join_movie_tables = \"\"\"\n",
    "SELECT\n",
    "    mvt.title AS title,\n",
    "    mvt.domestic AS dom_earning,\n",
    "    mvt.international AS int_earning,\n",
    "    mvt.imp_budget_det_reg AS budget,\n",
    "    ((mvt.domestic + mvt.international - mvt.imp_budget_det_reg)/mvt.imp_budget_det_reg) AS profit_margin,\n",
    "    mvt.imp_distributor AS distributor,\n",
    "    mvt.imp_mpaa_rating AS mpaa_rating,\n",
    "    mvt.runtime AS runtime,\n",
    "    mvt.imp_genres AS genres\n",
    "FROM\n",
    "    df_mv_titles AS mvt\n",
    "JOIN\n",
    "    df_mv_daily_earnings AS mvde\n",
    "ON\n",
    "    mvt.title = mvde.title\n",
    "GROUP BY mvt.title\n",
    "\"\"\"\n",
    "\n",
    "df_mv_joined = ps.sqldf(query_join_movie_tables, locals())\n",
    "df_mv_joined"
   ]
  },
  {
   "cell_type": "code",
   "execution_count": null,
   "metadata": {},
   "outputs": [],
   "source": []
  },
  {
   "cell_type": "code",
   "execution_count": null,
   "metadata": {},
   "outputs": [],
   "source": []
  },
  {
   "cell_type": "code",
   "execution_count": null,
   "metadata": {},
   "outputs": [],
   "source": []
  },
  {
   "attachments": {},
   "cell_type": "markdown",
   "metadata": {},
   "source": [
    "## Create Scatter Matrix"
   ]
  },
  {
   "cell_type": "code",
   "execution_count": null,
   "metadata": {},
   "outputs": [],
   "source": [
    "# def print_coef_std_err(results):\n",
    "#     \"\"\"\n",
    "#     Function to combine estimated coefficients and standard error in one DataFrame\n",
    "#     :param results: <statsmodels RegressionResultsWrapper> OLS regression results from \n",
    "#     :return df: <pandas DataFrame> \n",
    "#     \"\"\"\n",
    "#     coef = results.params\n",
    "#     std_err = results.bse\n",
    "    \n",
    "#     df = pd.DataFrame(data = np.transpose([coef, std_err]), \n",
    "#                       index = coef.index, \n",
    "#                       columns=[\"coef\",\"std err\"])\n",
    "#     return df"
   ]
  },
  {
   "cell_type": "code",
   "execution_count": null,
   "metadata": {},
   "outputs": [],
   "source": [
    "# predictor = \"x\"\n",
    "# outcome = \"y\"\n",
    "# data = fake.copy()\n",
    "# results_ = results_coef_std.copy()\n",
    "\n",
    "# # Plot the data\n",
    "# plt.scatter(data[predictor], data[outcome], marker=\".\", label=\"Data\", color = \"k\")\n",
    "\n",
    "# # Calculate the fitted values\n",
    "# a_hat = results_.loc[\"Intercept\"][\"coef\"]\n",
    "# b_hat = results_.loc[predictor][\"coef\"]"
   ]
  },
  {
   "cell_type": "code",
   "execution_count": 20,
   "metadata": {},
   "outputs": [
    {
     "data": {
      "image/png": "[encoded data removed]",
      "text/plain": [
       "<Figure size 640x480 with 1 Axes>"
      ]
     },
     "metadata": {},
     "output_type": "display_data"
    }
   ],
   "source": [
    "# Plot the data\n",
    "var_x = \"AgeOfStore\"\n",
    "var_y = \"SalesInThousands\"\n",
    "a = 54.0786 #variablenya bisa dibikin dynamic\n",
    "b = -0.072 #variablenya bisa dibikin dynamic\n",
    "\n",
    "plt.scatter(df[var_x], df[var_y], marker=\".\", color = \"k\")\n",
    "plt.plot(df[var_x], a + b * df[var_x], label = \"true regression line\")\n",
    "\n",
    "# Add a legend and labels\n",
    "plt.legend()\n",
    "plt.xlabel(var_x)\n",
    "plt.ylabel(var_y)\n",
    "\n",
    "# Add a title \n",
    "plt.title(\"Data\")\n",
    "# Show the plot\n",
    "plt.show()"
   ]
  },
  {
   "cell_type": "code",
   "execution_count": null,
   "metadata": {},
   "outputs": [],
   "source": [
    "#plotting regression line\n",
    "\n",
    "predictor = \"weight\"\n",
    "outcome = \"mpg\"\n",
    "data = auto.copy()\n",
    "results_ = results_weight.copy()\n",
    "\n",
    "# Plot the data\n",
    "plt.scatter(data[predictor], data[outcome], color = \"k\", marker=\".\")\n",
    "\n",
    "# Calculate the fitted values\n",
    "a_hat = results_.loc[\"Intercept\"][\"coef\"]\n",
    "b_hat = results_.loc[predictor][\"coef\"]\n",
    "\n",
    "x_domain = np.linspace(np.min(data[predictor]), np.max(data[predictor]), 10000)\n",
    "\n",
    "fitted_values = a_hat + b_hat * x_domain\n",
    "\n",
    "# Plot the fitted line\n",
    "plt.plot(x_domain, fitted_values, label=\"Fitted line\", color = \"b\")\n",
    "\n",
    "# Add a legend and labels\n",
    "# plt.legend()\n",
    "plt.ylabel(outcome)\n",
    "plt.xlabel(predictor)\n",
    "\n",
    "# Add a title and adjust the margins\n",
    "plt.title(\"Data and fitted regression line\")\n",
    "\n",
    "# Show the plot\n",
    "plt.show()"
   ]
  },
  {
   "cell_type": "code",
   "execution_count": null,
   "metadata": {},
   "outputs": [],
   "source": [
    "#Plotting residual plot\n",
    "plt.scatter(results_model_weight.fittedvalues, results_model_weight.resid, marker=\".\", c = \"k\")\n",
    "\n",
    "# Plot the horizontal line in 0 as the fitted line\n",
    "plt.axhline([0])\n",
    "\n",
    "plt.xlabel(\"predicted mpg\")\n",
    "plt.ylabel(\"residual\")\n",
    "plt.title(f\"Residuals vs. Predicted mpg\")"
   ]
  },
  {
   "cell_type": "code",
   "execution_count": null,
   "metadata": {},
   "outputs": [],
   "source": [
    "#Calculate the R-squared\n",
    "results_model_weight.rsquared"
   ]
  },
  {
   "cell_type": "code",
   "execution_count": null,
   "metadata": {},
   "outputs": [],
   "source": [
    "#Plot histogram of residual to check the normality\n",
    "plt.hist(results_model_weight.resid, color='tab:blue', alpha=0.4)\n",
    "plt.xlabel(\"residual\")\n",
    "plt.ylabel(\"count\")\n",
    "\n",
    "plt.show()"
   ]
  },
  {
   "cell_type": "code",
   "execution_count": null,
   "metadata": {},
   "outputs": [],
   "source": [
    "#Log Transformation on a parameter\n",
    "auto['logweight'] = np.log(auto[\"weight\"])\n",
    "auto.head(3)\n",
    "\n",
    "# Create OLS model object\n",
    "model = smf.ols(\"mpg ~ logweight\", auto)\n",
    "\n",
    "# Fit the model\n",
    "results_logtransform = model.fit()\n",
    "\n",
    "# Extract the results (Coefficient and Standard Error) to DataFrame\n",
    "results_weight_log = print_coef_std_err(results_logtransform)\n",
    "\n",
    "results_logtransform.rsquared"
   ]
  },
  {
   "cell_type": "code",
   "execution_count": null,
   "metadata": {},
   "outputs": [],
   "source": [
    "#Reciprocal transformation on a parameter\n",
    "auto['rec_weight'] = 1/auto[\"weight\"]\n",
    "auto.head(3)\n",
    "\n",
    "# Create OLS model object\n",
    "model = smf.ols(\"mpg ~ rec_weight\", auto)\n",
    "\n",
    "# Fit the model\n",
    "results_rectransform = model.fit()\n",
    "\n",
    "# Extract the results (Coefficient and Standard Error) to DataFrame\n",
    "results_weight_rec = print_coef_std_err(results_rectransform)\n",
    "\n",
    "results_rectransform.rsquared"
   ]
  },
  {
   "cell_type": "code",
   "execution_count": null,
   "metadata": {},
   "outputs": [],
   "source": [
    "# Visualize the data with log transsformation\n",
    "predictor = \"logweight\"\n",
    "outcome = \"mpg\"\n",
    "data = auto.copy()\n",
    "results_ = results_weight_log.copy()\n",
    "\n",
    "# Plot the data\n",
    "plt.scatter(data[predictor], data[outcome], color = \"k\", marker=\".\")\n",
    "\n",
    "# Calculate the fitted values\n",
    "a_hat = results_.loc[\"Intercept\"][\"coef\"]\n",
    "b_hat = results_.loc[predictor][\"coef\"]\n",
    "\n",
    "x_domain = np.linspace(np.min(data[predictor]), np.max(data[predictor]), 10000)\n",
    "\n",
    "fitted_values = a_hat + b_hat * x_domain\n",
    "\n",
    "# Plot the fitted line\n",
    "plt.plot(x_domain, fitted_values, label=\"Fitted line\", color = \"b\")\n",
    "\n",
    "# Add a legend and labels\n",
    "# plt.legend()\n",
    "plt.ylabel(outcome)\n",
    "plt.xlabel(predictor)\n",
    "\n",
    "# Add a title and adjust the margins\n",
    "plt.title(\"Data and fitted regression line\")\n",
    "\n",
    "# Show the plot\n",
    "plt.show()"
   ]
  },
  {
   "cell_type": "code",
   "execution_count": null,
   "metadata": {},
   "outputs": [],
   "source": [
    "# # Create a new Variable: Total Earnings\n",
    "# df_mv_titles[\"tot_earnings\"] = df_mv_titles[\"Domestic\"] + df_mv_titles[\"International\"]"
   ]
  }
 ],
 "metadata": {
  "kernelspec": {
   "display_name": ".venv",
   "language": "python",
   "name": "python3"
  },
  "language_info": {
   "codemirror_mode": {
    "name": "ipython",
    "version": 3
   },
   "file_extension": ".py",
   "mimetype": "text/x-python",
   "name": "python",
   "nbconvert_exporter": "python",
   "pygments_lexer": "ipython3",
   "version": "3.11.3"
  },
  "orig_nbformat": 4
 },
 "nbformat": 4,
 "nbformat_minor": 2
}
