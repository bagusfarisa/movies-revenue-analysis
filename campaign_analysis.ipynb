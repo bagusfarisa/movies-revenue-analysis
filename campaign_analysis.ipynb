{
 "cells": [
  {
   "attachments": {},
   "cell_type": "markdown",
   "metadata": {},
   "source": [
    "# TITLE"
   ]
  },
  {
   "attachments": {},
   "cell_type": "markdown",
   "metadata": {},
   "source": [
    "## Import the libs and Load the datasets"
   ]
  },
  {
   "cell_type": "code",
   "execution_count": 287,
   "metadata": {},
   "outputs": [],
   "source": [
    "# Import libraries\n",
    "\n",
    "# Data Loading\n",
    "import numpy as np\n",
    "import pandas as pd\n",
    "\n",
    "# Data Querying\n",
    "import pandasql\n",
    "\n",
    "# Modelling\n",
    "import statsmodels.formula.api as smf\n",
    "\n",
    "# Data Visualization\n",
    "import matplotlib.pyplot as plt\n",
    "import seaborn as sns"
   ]
  },
  {
   "cell_type": "code",
   "execution_count": 288,
   "metadata": {},
   "outputs": [],
   "source": [
    "def print_coef_std_err(results):\n",
    "    \"\"\"\n",
    "    Function to combine estimated coefficients and standard error in one DataFrame\n",
    "    :param results: <statsmodels RegressionResultsWrapper> OLS regression results from statsmodel\n",
    "    :return df: <pandas DataFrame> combined estimated coefficient and standard error of model estimate\n",
    "    \"\"\"\n",
    "    coef = results.params\n",
    "    std_err = results.bse\n",
    "    \n",
    "    df = pd.DataFrame(data = np.transpose([coef, std_err]), \n",
    "                      index = coef.index, \n",
    "                      columns=[\"coef\",\"std err\"])\n",
    "    return df"
   ]
  },
  {
   "cell_type": "code",
   "execution_count": 289,
   "metadata": {},
   "outputs": [],
   "source": [
    "def impute(data, value):\n",
    "    \"\"\"\n",
    "    Function to impute a missing data (array-like) with a certain value\n",
    "    \n",
    "    :param data: array-like, the data with missing values\n",
    "    :param value: float/int, the value to use for imputing missing values\n",
    "    :return imputed_array: array-like, the imputed data\n",
    "    \"\"\"    \n",
    "    # Check for each element in data \n",
    "    # return True if it's a missing values (represented as NaN in numpy) \n",
    "    # return False otherwise.\n",
    "    bool_nan = np.isnan(data)\n",
    "    \n",
    "    # Return the value a_impute where a is missing and returns a otherwise\n",
    "    imputed_data = np.where(bool_nan, value, data)\n",
    "    \n",
    "    return imputed_data"
   ]
  },
  {
   "cell_type": "code",
   "execution_count": 290,
   "metadata": {},
   "outputs": [
    {
     "data": {
      "text/html": [
       "<div>\n",
       "<style scoped>\n",
       "    .dataframe tbody tr th:only-of-type {\n",
       "        vertical-align: middle;\n",
       "    }\n",
       "\n",
       "    .dataframe tbody tr th {\n",
       "        vertical-align: top;\n",
       "    }\n",
       "\n",
       "    .dataframe thead th {\n",
       "        text-align: right;\n",
       "    }\n",
       "</style>\n",
       "<table border=\"1\" class=\"dataframe\">\n",
       "  <thead>\n",
       "    <tr style=\"text-align: right;\">\n",
       "      <th></th>\n",
       "      <th>Title</th>\n",
       "      <th>Domestic</th>\n",
       "      <th>International</th>\n",
       "      <th>Budget</th>\n",
       "      <th>Distributor</th>\n",
       "      <th>MPAA-Rating</th>\n",
       "      <th>Runtime</th>\n",
       "      <th>Genres</th>\n",
       "    </tr>\n",
       "  </thead>\n",
       "  <tbody>\n",
       "    <tr>\n",
       "      <th>0</th>\n",
       "      <td>Jurassic World (2015)</td>\n",
       "      <td>652270625</td>\n",
       "      <td>1018130012</td>\n",
       "      <td>150000000.0</td>\n",
       "      <td>Universal Pictures</td>\n",
       "      <td>PG-13</td>\n",
       "      <td>124</td>\n",
       "      <td>Action;Adventure;Sci-Fi</td>\n",
       "    </tr>\n",
       "    <tr>\n",
       "      <th>1</th>\n",
       "      <td>Star Wars: Episode VII - The Force Awakens (2015)</td>\n",
       "      <td>936662225</td>\n",
       "      <td>1131561399</td>\n",
       "      <td>245000000.0</td>\n",
       "      <td>Walt Disney Studios Motion Pictures</td>\n",
       "      <td>PG-13</td>\n",
       "      <td>138</td>\n",
       "      <td>Action;Adventure;Sci-Fi</td>\n",
       "    </tr>\n",
       "    <tr>\n",
       "      <th>2</th>\n",
       "      <td>Avengers: Age of Ultron (2015)</td>\n",
       "      <td>459005868</td>\n",
       "      <td>943800000</td>\n",
       "      <td>250000000.0</td>\n",
       "      <td>Walt Disney Studios Motion Pictures</td>\n",
       "      <td>PG-13</td>\n",
       "      <td>141</td>\n",
       "      <td>Action;Adventure;Sci-Fi</td>\n",
       "    </tr>\n",
       "    <tr>\n",
       "      <th>3</th>\n",
       "      <td>Inside Out (2015)</td>\n",
       "      <td>356461711</td>\n",
       "      <td>501149463</td>\n",
       "      <td>175000000.0</td>\n",
       "      <td>Walt Disney Studios Motion Pictures</td>\n",
       "      <td>PG</td>\n",
       "      <td>95</td>\n",
       "      <td>Adventure;Animation;Comedy;Drama;Family;Fantasy</td>\n",
       "    </tr>\n",
       "    <tr>\n",
       "      <th>4</th>\n",
       "      <td>Furious 7 (2015)</td>\n",
       "      <td>353007020</td>\n",
       "      <td>1162040651</td>\n",
       "      <td>190000000.0</td>\n",
       "      <td>Universal Pictures</td>\n",
       "      <td>PG-13</td>\n",
       "      <td>137</td>\n",
       "      <td>Action;Adventure;Thriller</td>\n",
       "    </tr>\n",
       "  </tbody>\n",
       "</table>\n",
       "</div>"
      ],
      "text/plain": [
       "                                               Title   Domestic  \\\n",
       "0                              Jurassic World (2015)  652270625   \n",
       "1  Star Wars: Episode VII - The Force Awakens (2015)  936662225   \n",
       "2                     Avengers: Age of Ultron (2015)  459005868   \n",
       "3                                  Inside Out (2015)  356461711   \n",
       "4                                   Furious 7 (2015)  353007020   \n",
       "\n",
       "   International       Budget                          Distributor  \\\n",
       "0     1018130012  150000000.0                   Universal Pictures   \n",
       "1     1131561399  245000000.0  Walt Disney Studios Motion Pictures   \n",
       "2      943800000  250000000.0  Walt Disney Studios Motion Pictures   \n",
       "3      501149463  175000000.0  Walt Disney Studios Motion Pictures   \n",
       "4     1162040651  190000000.0                   Universal Pictures   \n",
       "\n",
       "  MPAA-Rating  Runtime                                           Genres  \n",
       "0       PG-13      124                          Action;Adventure;Sci-Fi  \n",
       "1       PG-13      138                          Action;Adventure;Sci-Fi  \n",
       "2       PG-13      141                          Action;Adventure;Sci-Fi  \n",
       "3          PG       95  Adventure;Animation;Comedy;Drama;Family;Fantasy  \n",
       "4       PG-13      137                        Action;Adventure;Thriller  "
      ]
     },
     "execution_count": 290,
     "metadata": {},
     "output_type": "execute_result"
    }
   ],
   "source": [
    "# Load dataset: Movie Titles\n",
    "df_mv_titles = pd.read_csv(\"movie_titles.csv\")\n",
    "df_mv_titles.head()"
   ]
  },
  {
   "cell_type": "code",
   "execution_count": 291,
   "metadata": {},
   "outputs": [
    {
     "data": {
      "text/html": [
       "<div>\n",
       "<style scoped>\n",
       "    .dataframe tbody tr th:only-of-type {\n",
       "        vertical-align: middle;\n",
       "    }\n",
       "\n",
       "    .dataframe tbody tr th {\n",
       "        vertical-align: top;\n",
       "    }\n",
       "\n",
       "    .dataframe thead th {\n",
       "        text-align: right;\n",
       "    }\n",
       "</style>\n",
       "<table border=\"1\" class=\"dataframe\">\n",
       "  <thead>\n",
       "    <tr style=\"text-align: right;\">\n",
       "      <th></th>\n",
       "      <th>Movie_Title</th>\n",
       "      <th>Date</th>\n",
       "      <th>Daily</th>\n",
       "      <th>Theaters</th>\n",
       "      <th>Rank</th>\n",
       "    </tr>\n",
       "  </thead>\n",
       "  <tbody>\n",
       "    <tr>\n",
       "      <th>0</th>\n",
       "      <td>Jurassic World (2015)</td>\n",
       "      <td>2015-06-12</td>\n",
       "      <td>81953950</td>\n",
       "      <td>4274.0</td>\n",
       "      <td>1</td>\n",
       "    </tr>\n",
       "    <tr>\n",
       "      <th>1</th>\n",
       "      <td>Jurassic World (2015)</td>\n",
       "      <td>2015-06-13</td>\n",
       "      <td>69644830</td>\n",
       "      <td>4274.0</td>\n",
       "      <td>1</td>\n",
       "    </tr>\n",
       "    <tr>\n",
       "      <th>2</th>\n",
       "      <td>Jurassic World (2015)</td>\n",
       "      <td>2015-06-14</td>\n",
       "      <td>57207490</td>\n",
       "      <td>4274.0</td>\n",
       "      <td>1</td>\n",
       "    </tr>\n",
       "    <tr>\n",
       "      <th>3</th>\n",
       "      <td>Jurassic World (2015)</td>\n",
       "      <td>2015-06-15</td>\n",
       "      <td>25344820</td>\n",
       "      <td>4274.0</td>\n",
       "      <td>1</td>\n",
       "    </tr>\n",
       "    <tr>\n",
       "      <th>4</th>\n",
       "      <td>Jurassic World (2015)</td>\n",
       "      <td>2015-06-16</td>\n",
       "      <td>24342515</td>\n",
       "      <td>4274.0</td>\n",
       "      <td>1</td>\n",
       "    </tr>\n",
       "  </tbody>\n",
       "</table>\n",
       "</div>"
      ],
      "text/plain": [
       "             Movie_Title        Date     Daily  Theaters  Rank\n",
       "0  Jurassic World (2015)  2015-06-12  81953950    4274.0     1\n",
       "1  Jurassic World (2015)  2015-06-13  69644830    4274.0     1\n",
       "2  Jurassic World (2015)  2015-06-14  57207490    4274.0     1\n",
       "3  Jurassic World (2015)  2015-06-15  25344820    4274.0     1\n",
       "4  Jurassic World (2015)  2015-06-16  24342515    4274.0     1"
      ]
     },
     "execution_count": 291,
     "metadata": {},
     "output_type": "execute_result"
    }
   ],
   "source": [
    "# Load dataset: Movie Daily Earnings\n",
    "df_mv_daily_earnings = pd.read_csv(\"movie_daily_earnings.csv\")\n",
    "df_mv_daily_earnings.head()"
   ]
  },
  {
   "attachments": {},
   "cell_type": "markdown",
   "metadata": {},
   "source": [
    "## Check Missing Value"
   ]
  },
  {
   "cell_type": "code",
   "execution_count": 292,
   "metadata": {},
   "outputs": [
    {
     "data": {
      "text/plain": [
       "Title             0.000000\n",
       "Domestic          0.000000\n",
       "International     0.000000\n",
       "Budget           32.147059\n",
       "Distributor       0.029412\n",
       "MPAA-Rating       4.588235\n",
       "Runtime           0.000000\n",
       "Genres            0.088235\n",
       "dtype: float64"
      ]
     },
     "execution_count": 292,
     "metadata": {},
     "output_type": "execute_result"
    }
   ],
   "source": [
    "#Check missing value: Movie Titles\n",
    "df_mv_titles.isnull().sum()/df_mv_titles.shape[0]*100"
   ]
  },
  {
   "attachments": {},
   "cell_type": "markdown",
   "metadata": {},
   "source": [
    "Movie Tiltes: variable(s) with missing value:\n",
    "1. Budget (32%)\n",
    "2. Distributor (0.03%)\n",
    "3. MPAA-Rating (4.5%)\n",
    "4. Genres (0.09%)"
   ]
  },
  {
   "cell_type": "code",
   "execution_count": 293,
   "metadata": {},
   "outputs": [
    {
     "data": {
      "text/plain": [
       "Movie_Title    0.000000\n",
       "Date           0.000000\n",
       "Daily          0.000000\n",
       "Theaters       0.017319\n",
       "Rank           0.000000\n",
       "dtype: float64"
      ]
     },
     "execution_count": 293,
     "metadata": {},
     "output_type": "execute_result"
    }
   ],
   "source": [
    "#Check missing value: Movie Daily Earnings\n",
    "df_mv_daily_earnings.isnull().sum()/df_mv_daily_earnings.shape[0]*100"
   ]
  },
  {
   "attachments": {},
   "cell_type": "markdown",
   "metadata": {},
   "source": [
    "Movie Daily Earnings: variable(s) with missing value:\n",
    "1. Theaters (0.17%)"
   ]
  },
  {
   "attachments": {},
   "cell_type": "markdown",
   "metadata": {},
   "source": [
    "## Data Imputation"
   ]
  },
  {
   "attachments": {},
   "cell_type": "markdown",
   "metadata": {},
   "source": [
    "### Movie Daily Earnings Table"
   ]
  },
  {
   "attachments": {},
   "cell_type": "markdown",
   "metadata": {},
   "source": [
    "#### Handling Missing Values of Categotical Variables\n",
    "We'll use mode-imputation to handle missing value of these categorical variables:\n",
    "1. Theaters"
   ]
  },
  {
   "cell_type": "code",
   "execution_count": 294,
   "metadata": {},
   "outputs": [],
   "source": [
    "# Fill the Theater's missing value using the mode\n",
    "df_mv_daily_earnings['Theaters'].fillna(df_mv_daily_earnings['Theaters'].mode()[0], inplace=True)\n"
   ]
  },
  {
   "cell_type": "code",
   "execution_count": 295,
   "metadata": {},
   "outputs": [
    {
     "data": {
      "text/plain": [
       "Movie_Title    0.0\n",
       "Date           0.0\n",
       "Daily          0.0\n",
       "Theaters       0.0\n",
       "Rank           0.0\n",
       "dtype: float64"
      ]
     },
     "execution_count": 295,
     "metadata": {},
     "output_type": "execute_result"
    }
   ],
   "source": [
    "#Check the missing value again: Movie Daily Earnings\n",
    "df_mv_daily_earnings.isnull().sum()/df_mv_daily_earnings.shape[0]*100"
   ]
  },
  {
   "attachments": {},
   "cell_type": "markdown",
   "metadata": {},
   "source": [
    "Note: No longer any missing value in Movie Daily Earnings dataset"
   ]
  },
  {
   "attachments": {},
   "cell_type": "markdown",
   "metadata": {},
   "source": [
    "### Movie Titles Table"
   ]
  },
  {
   "attachments": {},
   "cell_type": "markdown",
   "metadata": {},
   "source": [
    "#### Handling Missing Values of Categotical Variables"
   ]
  },
  {
   "attachments": {},
   "cell_type": "markdown",
   "metadata": {},
   "source": [
    "We'll use mode-imputation to handle missing value of these categorical variables:\n",
    "1. Distributor\n",
    "2. MPAA-Rating\n",
    "3. Genres"
   ]
  },
  {
   "cell_type": "code",
   "execution_count": 296,
   "metadata": {},
   "outputs": [],
   "source": [
    "# Fill the Distributor's missing value using the mode\n",
    "df_mv_titles['Distributor'].fillna(df_mv_titles['Distributor'].mode()[0], inplace=True)"
   ]
  },
  {
   "cell_type": "code",
   "execution_count": 297,
   "metadata": {},
   "outputs": [],
   "source": [
    "# Fill the Distributor's missing value using the mode\n",
    "df_mv_titles['MPAA-Rating'].fillna(df_mv_titles['MPAA-Rating'].mode()[0], inplace=True)\n"
   ]
  },
  {
   "cell_type": "code",
   "execution_count": 298,
   "metadata": {},
   "outputs": [],
   "source": [
    "# Fill the Distributor's missing value using the mode\n",
    "df_mv_titles['Genres'].fillna(df_mv_titles['Genres'].mode()[0], inplace=True)\n"
   ]
  },
  {
   "cell_type": "code",
   "execution_count": 299,
   "metadata": {},
   "outputs": [
    {
     "data": {
      "text/plain": [
       "Title             0.000000\n",
       "Domestic          0.000000\n",
       "International     0.000000\n",
       "Budget           32.147059\n",
       "Distributor       0.000000\n",
       "MPAA-Rating       0.000000\n",
       "Runtime           0.000000\n",
       "Genres            0.000000\n",
       "dtype: float64"
      ]
     },
     "execution_count": 299,
     "metadata": {},
     "output_type": "execute_result"
    }
   ],
   "source": [
    "#Check again the missing value: Movie Titles\n",
    "df_mv_titles.isnull().sum()/df_mv_titles.shape[0]*100"
   ]
  },
  {
   "attachments": {},
   "cell_type": "markdown",
   "metadata": {},
   "source": [
    "Note: There's no longer any missing value in those categorical variables."
   ]
  },
  {
   "attachments": {},
   "cell_type": "markdown",
   "metadata": {},
   "source": [
    "#### Handling Missing Values of Numerical Variable"
   ]
  },
  {
   "attachments": {},
   "cell_type": "markdown",
   "metadata": {},
   "source": [
    "There's one numerical variable with missing values:\n",
    "1. Budget\n",
    "\n",
    "We'll use these imputation methods to handle the missing value and find which method perform the best.\n",
    "1. Complete Case Analysis\n",
    "2. Deterministic Regression Imputation\n",
    "3. Iterative Regression Imputation"
   ]
  },
  {
   "attachments": {},
   "cell_type": "markdown",
   "metadata": {},
   "source": [
    "##### 0. Preparing a New Target Variable for the Model Fitting"
   ]
  },
  {
   "attachments": {},
   "cell_type": "markdown",
   "metadata": {},
   "source": [
    "To make the data more comprehensible, we'll create a new column, Total Earnings, by adding the Domestic and International earning columns."
   ]
  },
  {
   "cell_type": "code",
   "execution_count": 300,
   "metadata": {},
   "outputs": [],
   "source": [
    "# Change the headers of the table\n",
    "dict = {'Domestic': 'domestic',\n",
    "        'International': 'international',\n",
    "        'Budget': 'budget',\n",
    "        'Distributor': 'distributor',\n",
    "        'MPAA-Rating': 'mpaa_rating',\n",
    "        'Runtime': 'runtime',\n",
    "        'Genres': 'genres'\n",
    "        }\n",
    " \n",
    "# Rename the headers based on the dict using rename () method\n",
    "df_mv_titles.rename(columns=dict, inplace=True)\n",
    " "
   ]
  },
  {
   "attachments": {},
   "cell_type": "markdown",
   "metadata": {},
   "source": [
    "##### 1. Complete Case Analysis"
   ]
  },
  {
   "attachments": {},
   "cell_type": "markdown",
   "metadata": {},
   "source": [
    "**Evaluate the dataset shape**"
   ]
  },
  {
   "cell_type": "code",
   "execution_count": 301,
   "metadata": {},
   "outputs": [
    {
     "data": {
      "text/plain": [
       "(3400, 8)"
      ]
     },
     "execution_count": 301,
     "metadata": {},
     "output_type": "execute_result"
    }
   ],
   "source": [
    "# Check the size of our original data\n",
    "df_mv_titles.shape"
   ]
  },
  {
   "cell_type": "code",
   "execution_count": 302,
   "metadata": {},
   "outputs": [
    {
     "data": {
      "text/plain": [
       "(2307, 8)"
      ]
     },
     "execution_count": 302,
     "metadata": {},
     "output_type": "execute_result"
    }
   ],
   "source": [
    "# Drop all rows that contain missing data\n",
    "df_mv_titles_compl_case = df_mv_titles.dropna(axis = 0)\n",
    "\n",
    "# Check the size of data after row deletion\n",
    "df_mv_titles_compl_case.shape"
   ]
  },
  {
   "attachments": {},
   "cell_type": "markdown",
   "metadata": {},
   "source": [
    "- We get that the table contains 2307 rows of complete data\n",
    "- We'll build a regression model based on this complete data and evaluation it"
   ]
  },
  {
   "cell_type": "code",
   "execution_count": 303,
   "metadata": {},
   "outputs": [
    {
     "data": {
      "text/html": [
       "<div>\n",
       "<style scoped>\n",
       "    .dataframe tbody tr th:only-of-type {\n",
       "        vertical-align: middle;\n",
       "    }\n",
       "\n",
       "    .dataframe tbody tr th {\n",
       "        vertical-align: top;\n",
       "    }\n",
       "\n",
       "    .dataframe thead th {\n",
       "        text-align: right;\n",
       "    }\n",
       "</style>\n",
       "<table border=\"1\" class=\"dataframe\">\n",
       "  <thead>\n",
       "    <tr style=\"text-align: right;\">\n",
       "      <th></th>\n",
       "      <th>Title</th>\n",
       "      <th>domestic</th>\n",
       "      <th>international</th>\n",
       "      <th>budget</th>\n",
       "      <th>distributor</th>\n",
       "      <th>mpaa_rating</th>\n",
       "      <th>runtime</th>\n",
       "      <th>genres</th>\n",
       "    </tr>\n",
       "  </thead>\n",
       "  <tbody>\n",
       "    <tr>\n",
       "      <th>0</th>\n",
       "      <td>Jurassic World (2015)</td>\n",
       "      <td>652270625</td>\n",
       "      <td>1018130012</td>\n",
       "      <td>150000000.0</td>\n",
       "      <td>Universal Pictures</td>\n",
       "      <td>PG-13</td>\n",
       "      <td>124</td>\n",
       "      <td>Action;Adventure;Sci-Fi</td>\n",
       "    </tr>\n",
       "    <tr>\n",
       "      <th>1</th>\n",
       "      <td>Star Wars: Episode VII - The Force Awakens (2015)</td>\n",
       "      <td>936662225</td>\n",
       "      <td>1131561399</td>\n",
       "      <td>245000000.0</td>\n",
       "      <td>Walt Disney Studios Motion Pictures</td>\n",
       "      <td>PG-13</td>\n",
       "      <td>138</td>\n",
       "      <td>Action;Adventure;Sci-Fi</td>\n",
       "    </tr>\n",
       "    <tr>\n",
       "      <th>2</th>\n",
       "      <td>Avengers: Age of Ultron (2015)</td>\n",
       "      <td>459005868</td>\n",
       "      <td>943800000</td>\n",
       "      <td>250000000.0</td>\n",
       "      <td>Walt Disney Studios Motion Pictures</td>\n",
       "      <td>PG-13</td>\n",
       "      <td>141</td>\n",
       "      <td>Action;Adventure;Sci-Fi</td>\n",
       "    </tr>\n",
       "    <tr>\n",
       "      <th>3</th>\n",
       "      <td>Inside Out (2015)</td>\n",
       "      <td>356461711</td>\n",
       "      <td>501149463</td>\n",
       "      <td>175000000.0</td>\n",
       "      <td>Walt Disney Studios Motion Pictures</td>\n",
       "      <td>PG</td>\n",
       "      <td>95</td>\n",
       "      <td>Adventure;Animation;Comedy;Drama;Family;Fantasy</td>\n",
       "    </tr>\n",
       "    <tr>\n",
       "      <th>4</th>\n",
       "      <td>Furious 7 (2015)</td>\n",
       "      <td>353007020</td>\n",
       "      <td>1162040651</td>\n",
       "      <td>190000000.0</td>\n",
       "      <td>Universal Pictures</td>\n",
       "      <td>PG-13</td>\n",
       "      <td>137</td>\n",
       "      <td>Action;Adventure;Thriller</td>\n",
       "    </tr>\n",
       "  </tbody>\n",
       "</table>\n",
       "</div>"
      ],
      "text/plain": [
       "                                               Title   domestic  \\\n",
       "0                              Jurassic World (2015)  652270625   \n",
       "1  Star Wars: Episode VII - The Force Awakens (2015)  936662225   \n",
       "2                     Avengers: Age of Ultron (2015)  459005868   \n",
       "3                                  Inside Out (2015)  356461711   \n",
       "4                                   Furious 7 (2015)  353007020   \n",
       "\n",
       "   international       budget                          distributor  \\\n",
       "0     1018130012  150000000.0                   Universal Pictures   \n",
       "1     1131561399  245000000.0  Walt Disney Studios Motion Pictures   \n",
       "2      943800000  250000000.0  Walt Disney Studios Motion Pictures   \n",
       "3      501149463  175000000.0  Walt Disney Studios Motion Pictures   \n",
       "4     1162040651  190000000.0                   Universal Pictures   \n",
       "\n",
       "  mpaa_rating  runtime                                           genres  \n",
       "0       PG-13      124                          Action;Adventure;Sci-Fi  \n",
       "1       PG-13      138                          Action;Adventure;Sci-Fi  \n",
       "2       PG-13      141                          Action;Adventure;Sci-Fi  \n",
       "3          PG       95  Adventure;Animation;Comedy;Drama;Family;Fantasy  \n",
       "4       PG-13      137                        Action;Adventure;Thriller  "
      ]
     },
     "execution_count": 303,
     "metadata": {},
     "output_type": "execute_result"
    }
   ],
   "source": [
    "df_mv_titles_compl_case.head()"
   ]
  },
  {
   "attachments": {},
   "cell_type": "markdown",
   "metadata": {},
   "source": [
    "**Build the regression model**"
   ]
  },
  {
   "cell_type": "code",
   "execution_count": 304,
   "metadata": {},
   "outputs": [],
   "source": [
    "# # Create the OLS model object and fit the model\n",
    "# model_cca = smf.ols(\"budget ~ domestic + international + C(distributor) \\\n",
    "#                                 + C(mpaa_rating) + runtime \\\n",
    "#                                 + C(genres)\", df_mv_titles_compl_case).fit()"
   ]
  },
  {
   "attachments": {},
   "cell_type": "markdown",
   "metadata": {},
   "source": [
    "Note: Distributor, MPAA-Rating, and Genres variables are not included because these variables can't be used in other imputation methods. Thus, we can't compare the models' standard error of these variables."
   ]
  },
  {
   "cell_type": "code",
   "execution_count": 305,
   "metadata": {},
   "outputs": [],
   "source": [
    "# Create the OLS model object and fit the model: without the categorical variable\n",
    "model_cca = smf.ols(\"budget ~ domestic + international + runtime\", df_mv_titles_compl_case).fit()"
   ]
  },
  {
   "attachments": {},
   "cell_type": "markdown",
   "metadata": {},
   "source": [
    "**Evaluate the model and store the evaluation**"
   ]
  },
  {
   "cell_type": "code",
   "execution_count": 306,
   "metadata": {},
   "outputs": [],
   "source": [
    "r_squared = pd.DataFrame({\"rsquared_cca\" : [model_cca.rsquared]})\n",
    "standard_error = pd.DataFrame({\"standard_error_cca\" : model_cca.bse})"
   ]
  },
  {
   "cell_type": "code",
   "execution_count": 307,
   "metadata": {},
   "outputs": [
    {
     "data": {
      "text/html": [
       "<div>\n",
       "<style scoped>\n",
       "    .dataframe tbody tr th:only-of-type {\n",
       "        vertical-align: middle;\n",
       "    }\n",
       "\n",
       "    .dataframe tbody tr th {\n",
       "        vertical-align: top;\n",
       "    }\n",
       "\n",
       "    .dataframe thead th {\n",
       "        text-align: right;\n",
       "    }\n",
       "</style>\n",
       "<table border=\"1\" class=\"dataframe\">\n",
       "  <thead>\n",
       "    <tr style=\"text-align: right;\">\n",
       "      <th></th>\n",
       "      <th>rsquared_cca</th>\n",
       "    </tr>\n",
       "  </thead>\n",
       "  <tbody>\n",
       "    <tr>\n",
       "      <th>0</th>\n",
       "      <td>0.532898</td>\n",
       "    </tr>\n",
       "  </tbody>\n",
       "</table>\n",
       "</div>"
      ],
      "text/plain": [
       "   rsquared_cca\n",
       "0      0.532898"
      ]
     },
     "execution_count": 307,
     "metadata": {},
     "output_type": "execute_result"
    }
   ],
   "source": [
    "r_squared"
   ]
  },
  {
   "cell_type": "code",
   "execution_count": 308,
   "metadata": {},
   "outputs": [
    {
     "data": {
      "text/html": [
       "<div>\n",
       "<style scoped>\n",
       "    .dataframe tbody tr th:only-of-type {\n",
       "        vertical-align: middle;\n",
       "    }\n",
       "\n",
       "    .dataframe tbody tr th {\n",
       "        vertical-align: top;\n",
       "    }\n",
       "\n",
       "    .dataframe thead th {\n",
       "        text-align: right;\n",
       "    }\n",
       "</style>\n",
       "<table border=\"1\" class=\"dataframe\">\n",
       "  <thead>\n",
       "    <tr style=\"text-align: right;\">\n",
       "      <th></th>\n",
       "      <th>standard_error_cca</th>\n",
       "    </tr>\n",
       "  </thead>\n",
       "  <tbody>\n",
       "    <tr>\n",
       "      <th>Intercept</th>\n",
       "      <td>4.497150e+06</td>\n",
       "    </tr>\n",
       "    <tr>\n",
       "      <th>domestic</th>\n",
       "      <td>1.644102e-02</td>\n",
       "    </tr>\n",
       "    <tr>\n",
       "      <th>international</th>\n",
       "      <td>9.004934e-03</td>\n",
       "    </tr>\n",
       "    <tr>\n",
       "      <th>runtime</th>\n",
       "      <td>4.161776e+04</td>\n",
       "    </tr>\n",
       "  </tbody>\n",
       "</table>\n",
       "</div>"
      ],
      "text/plain": [
       "               standard_error_cca\n",
       "Intercept            4.497150e+06\n",
       "domestic             1.644102e-02\n",
       "international        9.004934e-03\n",
       "runtime              4.161776e+04"
      ]
     },
     "execution_count": 308,
     "metadata": {},
     "output_type": "execute_result"
    }
   ],
   "source": [
    "standard_error"
   ]
  },
  {
   "attachments": {},
   "cell_type": "markdown",
   "metadata": {},
   "source": [
    "##### 2. Deterministic Regression Imputation"
   ]
  },
  {
   "cell_type": "code",
   "execution_count": 309,
   "metadata": {},
   "outputs": [
    {
     "data": {
      "text/plain": [
       "Title             0.000000\n",
       "domestic          0.000000\n",
       "international     0.000000\n",
       "budget           32.147059\n",
       "distributor       0.000000\n",
       "mpaa_rating       0.000000\n",
       "runtime           0.000000\n",
       "genres            0.000000\n",
       "dtype: float64"
      ]
     },
     "execution_count": 309,
     "metadata": {},
     "output_type": "execute_result"
    }
   ],
   "source": [
    "# Check the percentage of missing value\n",
    "df_mv_titles.isnull().sum()/df_mv_titles.shape[0]*100"
   ]
  },
  {
   "attachments": {},
   "cell_type": "markdown",
   "metadata": {},
   "source": [
    "We will only use the 68% of the data where all variables is complete as the predictors"
   ]
  },
  {
   "cell_type": "code",
   "execution_count": 310,
   "metadata": {},
   "outputs": [],
   "source": [
    "# Exclude earning missing cases\n",
    "df_mv_titles_det = df_mv_titles.dropna(subset=['budget'])"
   ]
  },
  {
   "cell_type": "code",
   "execution_count": 311,
   "metadata": {},
   "outputs": [
    {
     "data": {
      "text/plain": [
       "Title            0.0\n",
       "domestic         0.0\n",
       "international    0.0\n",
       "budget           0.0\n",
       "distributor      0.0\n",
       "mpaa_rating      0.0\n",
       "runtime          0.0\n",
       "genres           0.0\n",
       "dtype: float64"
      ]
     },
     "execution_count": 311,
     "metadata": {},
     "output_type": "execute_result"
    }
   ],
   "source": [
    "# Check percentage missing value in deterministic dataset\n",
    "df_mv_titles_det.isnull().sum()/df_mv_titles_det.shape[0]*100"
   ]
  },
  {
   "attachments": {},
   "cell_type": "markdown",
   "metadata": {},
   "source": [
    "**Build a regression model using the complete dataset**"
   ]
  },
  {
   "cell_type": "code",
   "execution_count": 312,
   "metadata": {},
   "outputs": [],
   "source": [
    "# Create the OLS model object and fit the model\n",
    "model_det_reg = smf.ols(\"budget ~ domestic + international + runtime\", df_mv_titles_det).fit()"
   ]
  },
  {
   "attachments": {},
   "cell_type": "markdown",
   "metadata": {},
   "source": [
    "Note: Distributor, MPAA-Rating, and Genres variables are not included because there's a value that only exist in the missing row. Thus, there will be and error when we try to predict the target variable."
   ]
  },
  {
   "attachments": {},
   "cell_type": "markdown",
   "metadata": {},
   "source": [
    "**Prediction the missing budget variables using the model and impute the result to the missing values**"
   ]
  },
  {
   "cell_type": "code",
   "execution_count": 313,
   "metadata": {},
   "outputs": [],
   "source": [
    "## Create a predictors dataframe by removing the budget column\n",
    "df_mv_titles_predictors = df_mv_titles.drop(columns=[\"budget\"])"
   ]
  },
  {
   "cell_type": "code",
   "execution_count": 314,
   "metadata": {},
   "outputs": [],
   "source": [
    "# Predict the budget using the deterministic model\n",
    "pred_budget_det = model_det_reg.predict(df_mv_titles_predictors)"
   ]
  },
  {
   "attachments": {},
   "cell_type": "markdown",
   "metadata": {},
   "source": [
    "**Impute the predicted values**"
   ]
  },
  {
   "cell_type": "code",
   "execution_count": 315,
   "metadata": {},
   "outputs": [],
   "source": [
    "# Impute the budget variables\n",
    "# Store the complete earnings that imuputed by deterministic value from regression prediction in a new variable\n",
    "\n",
    "df_mv_titles[\"imp_budget_det_reg\"] = impute(df_mv_titles['budget'], pred_budget_det)"
   ]
  },
  {
   "cell_type": "code",
   "execution_count": 316,
   "metadata": {},
   "outputs": [
    {
     "data": {
      "text/plain": [
       "Title                    0\n",
       "domestic                 0\n",
       "international            0\n",
       "budget                1093\n",
       "distributor              0\n",
       "mpaa_rating              0\n",
       "runtime                  0\n",
       "genres                   0\n",
       "imp_budget_det_reg       0\n",
       "dtype: int64"
      ]
     },
     "execution_count": 316,
     "metadata": {},
     "output_type": "execute_result"
    }
   ],
   "source": [
    "df_mv_titles.isna().sum()"
   ]
  },
  {
   "attachments": {},
   "cell_type": "markdown",
   "metadata": {},
   "source": [
    "- `imp_budget_det_reg` has 0 missing data\n",
    "- We'll build a regression model using that imputed variable and then evaluate the performance"
   ]
  },
  {
   "attachments": {},
   "cell_type": "markdown",
   "metadata": {},
   "source": [
    "**Build a regression model using the imputed budget variable**"
   ]
  },
  {
   "cell_type": "code",
   "execution_count": 317,
   "metadata": {},
   "outputs": [],
   "source": [
    "# Create the OLS model object and fit the model\n",
    "model_det_reg_2 = smf.ols(\"imp_budget_det_reg ~ domestic + international + runtime\", df_mv_titles).fit()"
   ]
  },
  {
   "attachments": {},
   "cell_type": "markdown",
   "metadata": {},
   "source": [
    "**Evaluate the model and store the evaluation**"
   ]
  },
  {
   "cell_type": "code",
   "execution_count": 318,
   "metadata": {},
   "outputs": [],
   "source": [
    "\n",
    "r_squared[\"rsquared_det_reg\"] = model_det_reg_2.rsquared\n",
    "standard_error[\"standard_error_det_reg\"] = model_det_reg_2.bse"
   ]
  },
  {
   "cell_type": "code",
   "execution_count": 319,
   "metadata": {},
   "outputs": [
    {
     "data": {
      "text/html": [
       "<div>\n",
       "<style scoped>\n",
       "    .dataframe tbody tr th:only-of-type {\n",
       "        vertical-align: middle;\n",
       "    }\n",
       "\n",
       "    .dataframe tbody tr th {\n",
       "        vertical-align: top;\n",
       "    }\n",
       "\n",
       "    .dataframe thead th {\n",
       "        text-align: right;\n",
       "    }\n",
       "</style>\n",
       "<table border=\"1\" class=\"dataframe\">\n",
       "  <thead>\n",
       "    <tr style=\"text-align: right;\">\n",
       "      <th></th>\n",
       "      <th>rsquared_cca</th>\n",
       "      <th>rsquared_det_reg</th>\n",
       "    </tr>\n",
       "  </thead>\n",
       "  <tbody>\n",
       "    <tr>\n",
       "      <th>0</th>\n",
       "      <td>0.532898</td>\n",
       "      <td>0.591674</td>\n",
       "    </tr>\n",
       "  </tbody>\n",
       "</table>\n",
       "</div>"
      ],
      "text/plain": [
       "   rsquared_cca  rsquared_det_reg\n",
       "0      0.532898          0.591674"
      ]
     },
     "execution_count": 319,
     "metadata": {},
     "output_type": "execute_result"
    }
   ],
   "source": [
    "r_squared"
   ]
  },
  {
   "cell_type": "code",
   "execution_count": 320,
   "metadata": {},
   "outputs": [
    {
     "data": {
      "text/html": [
       "<div>\n",
       "<style scoped>\n",
       "    .dataframe tbody tr th:only-of-type {\n",
       "        vertical-align: middle;\n",
       "    }\n",
       "\n",
       "    .dataframe tbody tr th {\n",
       "        vertical-align: top;\n",
       "    }\n",
       "\n",
       "    .dataframe thead th {\n",
       "        text-align: right;\n",
       "    }\n",
       "</style>\n",
       "<table border=\"1\" class=\"dataframe\">\n",
       "  <thead>\n",
       "    <tr style=\"text-align: right;\">\n",
       "      <th></th>\n",
       "      <th>standard_error_cca</th>\n",
       "      <th>standard_error_det_reg</th>\n",
       "    </tr>\n",
       "  </thead>\n",
       "  <tbody>\n",
       "    <tr>\n",
       "      <th>Intercept</th>\n",
       "      <td>4.497150e+06</td>\n",
       "      <td>2.952277e+06</td>\n",
       "    </tr>\n",
       "    <tr>\n",
       "      <th>domestic</th>\n",
       "      <td>1.644102e-02</td>\n",
       "      <td>1.170837e-02</td>\n",
       "    </tr>\n",
       "    <tr>\n",
       "      <th>international</th>\n",
       "      <td>9.004934e-03</td>\n",
       "      <td>6.529237e-03</td>\n",
       "    </tr>\n",
       "    <tr>\n",
       "      <th>runtime</th>\n",
       "      <td>4.161776e+04</td>\n",
       "      <td>2.737619e+04</td>\n",
       "    </tr>\n",
       "  </tbody>\n",
       "</table>\n",
       "</div>"
      ],
      "text/plain": [
       "               standard_error_cca  standard_error_det_reg\n",
       "Intercept            4.497150e+06            2.952277e+06\n",
       "domestic             1.644102e-02            1.170837e-02\n",
       "international        9.004934e-03            6.529237e-03\n",
       "runtime              4.161776e+04            2.737619e+04"
      ]
     },
     "execution_count": 320,
     "metadata": {},
     "output_type": "execute_result"
    }
   ],
   "source": [
    "standard_error"
   ]
  },
  {
   "attachments": {},
   "cell_type": "markdown",
   "metadata": {},
   "source": [
    "##### 3. Random Regression Imputation"
   ]
  },
  {
   "attachments": {},
   "cell_type": "markdown",
   "metadata": {},
   "source": [
    "##### 4. Iterative Regression Imputation"
   ]
  },
  {
   "cell_type": "code",
   "execution_count": null,
   "metadata": {},
   "outputs": [],
   "source": []
  },
  {
   "cell_type": "code",
   "execution_count": null,
   "metadata": {},
   "outputs": [],
   "source": []
  },
  {
   "cell_type": "code",
   "execution_count": null,
   "metadata": {},
   "outputs": [],
   "source": []
  },
  {
   "attachments": {},
   "cell_type": "markdown",
   "metadata": {},
   "source": [
    "## Join the Tables using Pandasql"
   ]
  },
  {
   "attachments": {},
   "cell_type": "markdown",
   "metadata": {},
   "source": [
    "## Create Scatter Matrix"
   ]
  },
  {
   "cell_type": "code",
   "execution_count": null,
   "metadata": {},
   "outputs": [],
   "source": [
    "# def print_coef_std_err(results):\n",
    "#     \"\"\"\n",
    "#     Function to combine estimated coefficients and standard error in one DataFrame\n",
    "#     :param results: <statsmodels RegressionResultsWrapper> OLS regression results from \n",
    "#     :return df: <pandas DataFrame> \n",
    "#     \"\"\"\n",
    "#     coef = results.params\n",
    "#     std_err = results.bse\n",
    "    \n",
    "#     df = pd.DataFrame(data = np.transpose([coef, std_err]), \n",
    "#                       index = coef.index, \n",
    "#                       columns=[\"coef\",\"std err\"])\n",
    "#     return df"
   ]
  },
  {
   "cell_type": "code",
   "execution_count": null,
   "metadata": {},
   "outputs": [],
   "source": [
    "# predictor = \"x\"\n",
    "# outcome = \"y\"\n",
    "# data = fake.copy()\n",
    "# results_ = results_coef_std.copy()\n",
    "\n",
    "# # Plot the data\n",
    "# plt.scatter(data[predictor], data[outcome], marker=\".\", label=\"Data\", color = \"k\")\n",
    "\n",
    "# # Calculate the fitted values\n",
    "# a_hat = results_.loc[\"Intercept\"][\"coef\"]\n",
    "# b_hat = results_.loc[predictor][\"coef\"]"
   ]
  },
  {
   "cell_type": "code",
   "execution_count": 20,
   "metadata": {},
   "outputs": [
    {
     "data": {
      "image/png": "[encoded data removed]",
      "text/plain": [
       "<Figure size 640x480 with 1 Axes>"
      ]
     },
     "metadata": {},
     "output_type": "display_data"
    }
   ],
   "source": [
    "# Plot the data\n",
    "var_x = \"AgeOfStore\"\n",
    "var_y = \"SalesInThousands\"\n",
    "a = 54.0786 #variablenya bisa dibikin dynamic\n",
    "b = -0.072 #variablenya bisa dibikin dynamic\n",
    "\n",
    "plt.scatter(df[var_x], df[var_y], marker=\".\", color = \"k\")\n",
    "plt.plot(df[var_x], a + b * df[var_x], label = \"true regression line\")\n",
    "\n",
    "# Add a legend and labels\n",
    "plt.legend()\n",
    "plt.xlabel(var_x)\n",
    "plt.ylabel(var_y)\n",
    "\n",
    "# Add a title \n",
    "plt.title(\"Data\")\n",
    "# Show the plot\n",
    "plt.show()"
   ]
  },
  {
   "cell_type": "code",
   "execution_count": null,
   "metadata": {},
   "outputs": [],
   "source": [
    "#plotting regression line\n",
    "\n",
    "predictor = \"weight\"\n",
    "outcome = \"mpg\"\n",
    "data = auto.copy()\n",
    "results_ = results_weight.copy()\n",
    "\n",
    "# Plot the data\n",
    "plt.scatter(data[predictor], data[outcome], color = \"k\", marker=\".\")\n",
    "\n",
    "# Calculate the fitted values\n",
    "a_hat = results_.loc[\"Intercept\"][\"coef\"]\n",
    "b_hat = results_.loc[predictor][\"coef\"]\n",
    "\n",
    "x_domain = np.linspace(np.min(data[predictor]), np.max(data[predictor]), 10000)\n",
    "\n",
    "fitted_values = a_hat + b_hat * x_domain\n",
    "\n",
    "# Plot the fitted line\n",
    "plt.plot(x_domain, fitted_values, label=\"Fitted line\", color = \"b\")\n",
    "\n",
    "# Add a legend and labels\n",
    "# plt.legend()\n",
    "plt.ylabel(outcome)\n",
    "plt.xlabel(predictor)\n",
    "\n",
    "# Add a title and adjust the margins\n",
    "plt.title(\"Data and fitted regression line\")\n",
    "\n",
    "# Show the plot\n",
    "plt.show()"
   ]
  },
  {
   "cell_type": "code",
   "execution_count": null,
   "metadata": {},
   "outputs": [],
   "source": [
    "#Plotting residual plot\n",
    "plt.scatter(results_model_weight.fittedvalues, results_model_weight.resid, marker=\".\", c = \"k\")\n",
    "\n",
    "# Plot the horizontal line in 0 as the fitted line\n",
    "plt.axhline([0])\n",
    "\n",
    "plt.xlabel(\"predicted mpg\")\n",
    "plt.ylabel(\"residual\")\n",
    "plt.title(f\"Residuals vs. Predicted mpg\")"
   ]
  },
  {
   "cell_type": "code",
   "execution_count": null,
   "metadata": {},
   "outputs": [],
   "source": [
    "#Calculate the R-squared\n",
    "results_model_weight.rsquared"
   ]
  },
  {
   "cell_type": "code",
   "execution_count": null,
   "metadata": {},
   "outputs": [],
   "source": [
    "#Plot histogram of residual to check the normality\n",
    "plt.hist(results_model_weight.resid, color='tab:blue', alpha=0.4)\n",
    "plt.xlabel(\"residual\")\n",
    "plt.ylabel(\"count\")\n",
    "\n",
    "plt.show()"
   ]
  },
  {
   "cell_type": "code",
   "execution_count": null,
   "metadata": {},
   "outputs": [],
   "source": [
    "#Log Transformation on a parameter\n",
    "auto['logweight'] = np.log(auto[\"weight\"])\n",
    "auto.head(3)\n",
    "\n",
    "# Create OLS model object\n",
    "model = smf.ols(\"mpg ~ logweight\", auto)\n",
    "\n",
    "# Fit the model\n",
    "results_logtransform = model.fit()\n",
    "\n",
    "# Extract the results (Coefficient and Standard Error) to DataFrame\n",
    "results_weight_log = print_coef_std_err(results_logtransform)\n",
    "\n",
    "results_logtransform.rsquared"
   ]
  },
  {
   "cell_type": "code",
   "execution_count": null,
   "metadata": {},
   "outputs": [],
   "source": [
    "#Reciprocal transformation on a parameter\n",
    "auto['rec_weight'] = 1/auto[\"weight\"]\n",
    "auto.head(3)\n",
    "\n",
    "# Create OLS model object\n",
    "model = smf.ols(\"mpg ~ rec_weight\", auto)\n",
    "\n",
    "# Fit the model\n",
    "results_rectransform = model.fit()\n",
    "\n",
    "# Extract the results (Coefficient and Standard Error) to DataFrame\n",
    "results_weight_rec = print_coef_std_err(results_rectransform)\n",
    "\n",
    "results_rectransform.rsquared"
   ]
  },
  {
   "cell_type": "code",
   "execution_count": null,
   "metadata": {},
   "outputs": [],
   "source": [
    "# Visualize the data with log transsformation\n",
    "predictor = \"logweight\"\n",
    "outcome = \"mpg\"\n",
    "data = auto.copy()\n",
    "results_ = results_weight_log.copy()\n",
    "\n",
    "# Plot the data\n",
    "plt.scatter(data[predictor], data[outcome], color = \"k\", marker=\".\")\n",
    "\n",
    "# Calculate the fitted values\n",
    "a_hat = results_.loc[\"Intercept\"][\"coef\"]\n",
    "b_hat = results_.loc[predictor][\"coef\"]\n",
    "\n",
    "x_domain = np.linspace(np.min(data[predictor]), np.max(data[predictor]), 10000)\n",
    "\n",
    "fitted_values = a_hat + b_hat * x_domain\n",
    "\n",
    "# Plot the fitted line\n",
    "plt.plot(x_domain, fitted_values, label=\"Fitted line\", color = \"b\")\n",
    "\n",
    "# Add a legend and labels\n",
    "# plt.legend()\n",
    "plt.ylabel(outcome)\n",
    "plt.xlabel(predictor)\n",
    "\n",
    "# Add a title and adjust the margins\n",
    "plt.title(\"Data and fitted regression line\")\n",
    "\n",
    "# Show the plot\n",
    "plt.show()"
   ]
  },
  {
   "cell_type": "code",
   "execution_count": null,
   "metadata": {},
   "outputs": [],
   "source": [
    "# # Create a new Variable: Total Earnings\n",
    "# df_mv_titles[\"tot_earnings\"] = df_mv_titles[\"Domestic\"] + df_mv_titles[\"International\"]"
   ]
  }
 ],
 "metadata": {
  "kernelspec": {
   "display_name": ".venv",
   "language": "python",
   "name": "python3"
  },
  "language_info": {
   "codemirror_mode": {
    "name": "ipython",
    "version": 3
   },
   "file_extension": ".py",
   "mimetype": "text/x-python",
   "name": "python",
   "nbconvert_exporter": "python",
   "pygments_lexer": "ipython3",
   "version": "3.11.3"
  },
  "orig_nbformat": 4
 },
 "nbformat": 4,
 "nbformat_minor": 2
}
